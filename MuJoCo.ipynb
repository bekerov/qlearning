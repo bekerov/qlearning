{
 "cells": [
  {
   "cell_type": "code",
   "execution_count": 1,
   "metadata": {
    "collapsed": false,
    "deletable": true,
    "editable": true
   },
   "outputs": [],
   "source": [
    "%load_ext autoreload\n",
    "%autoreload 2"
   ]
  },
  {
   "cell_type": "code",
   "execution_count": 6,
   "metadata": {
    "collapsed": false,
    "deletable": true,
    "editable": true
   },
   "outputs": [
    {
     "name": "stderr",
     "output_type": "stream",
     "text": [
      "[2017-02-28 17:49:20,709] Making new env: InvertedDoublePendulum-v1\n"
     ]
    },
    {
     "name": "stdout",
     "output_type": "stream",
     "text": [
      "0 13 {'strat': {'scale': 0.5, 'decay': 200}, 'naf': {'nnqParameters': {'hidden_layers': [10, 10], 'nonlinearity': <function tanh at 0x7eff3924d578>}, 'learningParameters': {'discount': 0.95, 'learning_rate': 0.001}, 'nnpParameters': {'hidden_layers': [1, 1], 'nonlinearity': <function relu at 0x7eff39135848>}, 'nnvParameters': {'hidden_layers': [200, 200], 'nonlinearity': <function tanh at 0x7eff3924d578>}}}\n",
      "{'naf': {'learningParameters': {'discount': 0.95, 'learning_rate': 0.001},\n",
      "         'nnpParameters': {'hidden_layers': [1, 1],\n",
      "                           'nonlinearity': <function relu at 0x7eff39135848>},\n",
      "         'nnqParameters': {'hidden_layers': [10, 10],\n",
      "                           'nonlinearity': <function tanh at 0x7eff3924d578>},\n",
      "         'nnvParameters': {'hidden_layers': [200, 200],\n",
      "                           'nonlinearity': <function tanh at 0x7eff3924d578>}},\n",
      " 'strat': {'decay': 200, 'scale': 0.5}}\n",
      "[-1.] [ 1.]\n",
      "(11,)\n",
      "(11,)\n",
      "Epoch 0 Reward 45.2016529123\n",
      "Epoch 100 Reward 193.469374896\n",
      "Epoch 200 Reward 230.5437306\n",
      "Epoch 300 Reward 306.475054646\n",
      "Epoch 400 Reward 531.13523912\n",
      "Epoch 500 Reward 279.052943132\n"
     ]
    },
    {
     "name": "stderr",
     "output_type": "stream",
     "text": [
      "[2017-02-28 17:54:33,466] Making new env: InvertedDoublePendulum-v1\n"
     ]
    },
    {
     "name": "stdout",
     "output_type": "stream",
     "text": [
      "0 465.352242879\n",
      "[-1.] [ 1.]\n",
      "(11,)\n",
      "(11,)\n",
      "Epoch 0 Reward 45.1582982345\n",
      "Epoch 100 Reward 36.1682776153\n",
      "Epoch 200 Reward 63.6609988482\n",
      "Epoch 300 Reward 101.171130161\n",
      "Epoch 400 Reward 73.466217973\n",
      "Epoch 500 Reward 73.3521732851\n"
     ]
    },
    {
     "name": "stderr",
     "output_type": "stream",
     "text": [
      "[2017-02-28 17:56:15,664] Making new env: InvertedDoublePendulum-v1\n"
     ]
    },
    {
     "name": "stdout",
     "output_type": "stream",
     "text": [
      "1 73.1628104891\n",
      "[-1.] [ 1.]\n",
      "(11,)\n",
      "(11,)\n",
      "Epoch 0 Reward 54.1554773723\n",
      "Epoch 100 Reward 119.950094863\n",
      "Epoch 200 Reward 203.827823366\n",
      "Epoch 300 Reward 250.991898158\n",
      "Epoch 400 Reward 203.250577212\n",
      "Epoch 500 Reward 240.622713144\n"
     ]
    },
    {
     "name": "stderr",
     "output_type": "stream",
     "text": [
      "[2017-02-28 18:01:38,880] Making new env: InvertedDoublePendulum-v1\n"
     ]
    },
    {
     "name": "stdout",
     "output_type": "stream",
     "text": [
      "2 231.356209681\n",
      "[-1.] [ 1.]\n",
      "(11,)\n",
      "(11,)\n",
      "Epoch 0 Reward 44.903903039\n",
      "Epoch 100 Reward 92.1476102077\n",
      "Epoch 200 Reward 259.397131133\n",
      "Epoch 300 Reward 258.654374646\n",
      "Epoch 400 Reward 325.068611251\n",
      "Epoch 500 Reward 342.022209936\n"
     ]
    },
    {
     "name": "stderr",
     "output_type": "stream",
     "text": [
      "[2017-02-28 18:08:25,807] Making new env: InvertedDoublePendulum-v1\n"
     ]
    },
    {
     "name": "stdout",
     "output_type": "stream",
     "text": [
      "3 286.777187096\n",
      "[-1.] [ 1.]\n",
      "(11,)\n",
      "(11,)\n",
      "Epoch 0 Reward 91.9374860213\n",
      "Epoch 100 Reward 91.8548245364\n",
      "Epoch 200 Reward 176.394121318\n",
      "Epoch 300 Reward 297.339171145\n",
      "Epoch 400 Reward 240.066141107\n",
      "Epoch 500 Reward 465.933694307\n",
      "4 521.274968115\n"
     ]
    },
    {
     "data": {
      "image/png": "[encoded data removed]",
      "text/plain": [
       "<matplotlib.figure.Figure at 0x7eff0ef37950>"
      ]
     },
     "metadata": {},
     "output_type": "display_data"
    },
    {
     "name": "stderr",
     "output_type": "stream",
     "text": [
      "[2017-02-28 18:15:54,443] Making new env: InvertedDoublePendulum-v1\n"
     ]
    },
    {
     "name": "stdout",
     "output_type": "stream",
     "text": [
      "1 13 {'strat': {'scale': 0.5, 'decay': 1000}, 'naf': {'nnqParameters': {'hidden_layers': [10, 10], 'nonlinearity': <function tanh at 0x7eff3924d578>}, 'learningParameters': {'discount': 0.95, 'learning_rate': 0.001}, 'nnpParameters': {'hidden_layers': [1, 1], 'nonlinearity': <function relu at 0x7eff39135848>}, 'nnvParameters': {'hidden_layers': [200, 200], 'nonlinearity': <function tanh at 0x7eff3924d578>}}}\n",
      "{'naf': {'learningParameters': {'discount': 0.95, 'learning_rate': 0.001},\n",
      "         'nnpParameters': {'hidden_layers': [1, 1],\n",
      "                           'nonlinearity': <function relu at 0x7eff39135848>},\n",
      "         'nnqParameters': {'hidden_layers': [10, 10],\n",
      "                           'nonlinearity': <function tanh at 0x7eff3924d578>},\n",
      "         'nnvParameters': {'hidden_layers': [200, 200],\n",
      "                           'nonlinearity': <function tanh at 0x7eff3924d578>}},\n",
      " 'strat': {'decay': 1000, 'scale': 0.5}}\n",
      "[-1.] [ 1.]\n",
      "(11,)\n",
      "(11,)\n",
      "Epoch 0 Reward 45.5270277279\n",
      "Epoch 100 Reward 129.231319946\n",
      "Epoch 200 Reward 231.505622978\n",
      "Epoch 300 Reward 231.135839827\n",
      "Epoch 400 Reward 192.952187774\n",
      "Epoch 500 Reward 278.043613615\n"
     ]
    },
    {
     "name": "stderr",
     "output_type": "stream",
     "text": [
      "[2017-02-28 18:20:46,172] Making new env: InvertedDoublePendulum-v1\n"
     ]
    },
    {
     "name": "stdout",
     "output_type": "stream",
     "text": [
      "0 493.406530444\n",
      "[-1.] [ 1.]\n",
      "(11,)\n",
      "(11,)\n",
      "Epoch 0 Reward 45.5614017487\n",
      "Epoch 100 Reward 64.1724172985\n",
      "Epoch 200 Reward 138.424960613\n",
      "Epoch 300 Reward 380.130128406\n",
      "Epoch 400 Reward 259.626917376\n",
      "Epoch 500 Reward 352.048255116\n"
     ]
    },
    {
     "name": "stderr",
     "output_type": "stream",
     "text": [
      "[2017-02-28 18:25:21,830] Making new env: InvertedDoublePendulum-v1\n"
     ]
    },
    {
     "name": "stdout",
     "output_type": "stream",
     "text": [
      "1 259.008484524\n",
      "[-1.] [ 1.]\n",
      "(11,)\n",
      "(11,)\n",
      "Epoch 0 Reward 73.2632919552\n",
      "Epoch 100 Reward 175.648817366\n",
      "Epoch 200 Reward 277.286317414\n",
      "Epoch 300 Reward 157.030327424\n",
      "Epoch 400 Reward 156.851902402\n",
      "Epoch 500 Reward 287.619973365\n"
     ]
    },
    {
     "name": "stderr",
     "output_type": "stream",
     "text": [
      "[2017-02-28 18:29:51,250] Making new env: InvertedDoublePendulum-v1\n"
     ]
    },
    {
     "name": "stdout",
     "output_type": "stream",
     "text": [
      "2 296.778846479\n",
      "[-1.] [ 1.]\n",
      "(11,)\n",
      "(11,)\n",
      "Epoch 0 Reward 35.8343397497\n",
      "Epoch 100 Reward 91.9842067406\n",
      "Epoch 200 Reward 82.4266710336\n",
      "Epoch 300 Reward 101.439910672\n",
      "Epoch 400 Reward 203.982457765\n",
      "Epoch 500 Reward 231.718217514\n"
     ]
    },
    {
     "name": "stderr",
     "output_type": "stream",
     "text": [
      "[2017-02-28 18:32:49,491] Making new env: InvertedDoublePendulum-v1\n"
     ]
    },
    {
     "name": "stdout",
     "output_type": "stream",
     "text": [
      "3 119.948458592\n",
      "[-1.] [ 1.]\n",
      "(11,)\n",
      "(11,)\n",
      "Epoch 0 Reward 72.8203999561\n",
      "Epoch 100 Reward 63.5852916633\n",
      "Epoch 200 Reward 184.157510446\n",
      "Epoch 300 Reward 147.489410972\n",
      "Epoch 400 Reward 268.776207488\n",
      "Epoch 500 Reward 343.292716423\n",
      "4 240.312814895\n"
     ]
    },
    {
     "data": {
      "image/png": "[encoded data removed]",
      "text/plain": [
       "<matplotlib.figure.Figure at 0x7eff048731d0>"
      ]
     },
     "metadata": {},
     "output_type": "display_data"
    },
    {
     "name": "stderr",
     "output_type": "stream",
     "text": [
      "[2017-02-28 18:38:18,694] Making new env: InvertedDoublePendulum-v1\n"
     ]
    },
    {
     "name": "stdout",
     "output_type": "stream",
     "text": [
      "2 13 {'strat': {'scale': 1.0, 'decay': 1000}, 'naf': {'nnqParameters': {'hidden_layers': [10, 10], 'nonlinearity': <function tanh at 0x7eff3924d578>}, 'learningParameters': {'discount': 0.95, 'learning_rate': 0.001}, 'nnpParameters': {'hidden_layers': [1, 1], 'nonlinearity': <function relu at 0x7eff39135848>}, 'nnvParameters': {'hidden_layers': [200, 200], 'nonlinearity': <function tanh at 0x7eff3924d578>}}}\n",
      "{'naf': {'learningParameters': {'discount': 0.95, 'learning_rate': 0.001},\n",
      "         'nnpParameters': {'hidden_layers': [1, 1],\n",
      "                           'nonlinearity': <function relu at 0x7eff39135848>},\n",
      "         'nnqParameters': {'hidden_layers': [10, 10],\n",
      "                           'nonlinearity': <function tanh at 0x7eff3924d578>},\n",
      "         'nnvParameters': {'hidden_layers': [200, 200],\n",
      "                           'nonlinearity': <function tanh at 0x7eff3924d578>}},\n",
      " 'strat': {'decay': 1000, 'scale': 1.0}}\n",
      "[-1.] [ 1.]\n",
      "(11,)\n",
      "(11,)\n",
      "Epoch 0 Reward 36.2405112412\n",
      "Epoch 100 Reward 63.8529535366\n",
      "Epoch 200 Reward 138.286080829\n",
      "Epoch 300 Reward 175.328265544\n",
      "Epoch 400 Reward 63.9002945769\n",
      "Epoch 500 Reward 147.483687469\n"
     ]
    },
    {
     "name": "stderr",
     "output_type": "stream",
     "text": [
      "[2017-02-28 18:41:09,424] Making new env: InvertedDoublePendulum-v1\n"
     ]
    },
    {
     "name": "stdout",
     "output_type": "stream",
     "text": [
      "0 229.974183886\n",
      "[-1.] [ 1.]\n",
      "(11,)\n",
      "(11,)\n",
      "Epoch 0 Reward 63.3984649966\n",
      "Epoch 100 Reward 35.8801451946\n",
      "Epoch 200 Reward 63.5882554475\n",
      "Epoch 300 Reward 45.2031512575\n",
      "Epoch 400 Reward 100.872498571\n",
      "Epoch 500 Reward 221.193490997\n"
     ]
    },
    {
     "name": "stderr",
     "output_type": "stream",
     "text": [
      "[2017-02-28 18:43:54,546] Making new env: InvertedDoublePendulum-v1\n"
     ]
    },
    {
     "name": "stdout",
     "output_type": "stream",
     "text": [
      "1 129.291023276\n",
      "[-1.] [ 1.]\n",
      "(11,)\n",
      "(11,)\n",
      "Epoch 0 Reward 44.8437200754\n",
      "Epoch 100 Reward 35.4240037117\n",
      "Epoch 200 Reward 35.9468017156\n",
      "Epoch 300 Reward 73.0378039699\n",
      "Epoch 400 Reward 54.5096069195\n",
      "Epoch 500 Reward 35.5861958994\n"
     ]
    },
    {
     "name": "stderr",
     "output_type": "stream",
     "text": [
      "[2017-02-28 18:45:15,864] Making new env: InvertedDoublePendulum-v1\n"
     ]
    },
    {
     "name": "stdout",
     "output_type": "stream",
     "text": [
      "2 54.2788551395\n",
      "[-1.] [ 1.]\n",
      "(11,)\n",
      "(11,)\n",
      "Epoch 0 Reward 45.4612898697\n",
      "Epoch 100 Reward 63.7677523033\n",
      "Epoch 200 Reward 73.4210337673\n",
      "Epoch 300 Reward 91.4959407324\n",
      "Epoch 400 Reward 194.227881601\n",
      "Epoch 500 Reward 192.448355014\n"
     ]
    },
    {
     "name": "stderr",
     "output_type": "stream",
     "text": [
      "[2017-02-28 18:48:12,132] Making new env: InvertedDoublePendulum-v1\n"
     ]
    },
    {
     "name": "stdout",
     "output_type": "stream",
     "text": [
      "3 296.089692642\n",
      "[-1.] [ 1.]\n",
      "(11,)\n",
      "(11,)\n",
      "Epoch 0 Reward 44.8867412516\n",
      "Epoch 100 Reward 53.9308343368\n",
      "Epoch 200 Reward 54.4469713228\n",
      "Epoch 300 Reward 119.145764358\n",
      "Epoch 400 Reward 119.734318052\n",
      "Epoch 500 Reward 110.087106177\n",
      "4 91.8469309162\n"
     ]
    },
    {
     "data": {
      "image/png": "[encoded data removed]",
      "text/plain": [
       "<matplotlib.figure.Figure at 0x7eff013e1c90>"
      ]
     },
     "metadata": {},
     "output_type": "display_data"
    },
    {
     "name": "stderr",
     "output_type": "stream",
     "text": [
      "[2017-02-28 18:50:52,354] Making new env: InvertedDoublePendulum-v1\n"
     ]
    },
    {
     "name": "stdout",
     "output_type": "stream",
     "text": [
      "3 13 {'strat': {'scale': 1.0, 'decay': 1000}, 'naf': {'nnqParameters': {'hidden_layers': [10], 'nonlinearity': <function tanh at 0x7eff3924d578>}, 'learningParameters': {'discount': 0.95, 'learning_rate': 0.0001}, 'nnpParameters': {'hidden_layers': [1], 'nonlinearity': <function relu at 0x7eff39135848>}, 'nnvParameters': {'hidden_layers': [200], 'nonlinearity': <function tanh at 0x7eff3924d578>}}}\n",
      "{'naf': {'learningParameters': {'discount': 0.95, 'learning_rate': 0.0001},\n",
      "         'nnpParameters': {'hidden_layers': [1],\n",
      "                           'nonlinearity': <function relu at 0x7eff39135848>},\n",
      "         'nnqParameters': {'hidden_layers': [10],\n",
      "                           'nonlinearity': <function tanh at 0x7eff3924d578>},\n",
      "         'nnvParameters': {'hidden_layers': [200],\n",
      "                           'nonlinearity': <function tanh at 0x7eff3924d578>}},\n",
      " 'strat': {'decay': 1000, 'scale': 1.0}}\n",
      "[-1.] [ 1.]\n",
      "(11,)\n",
      "(11,)\n",
      "Epoch 0 Reward 36.0907537729\n",
      "Epoch 100 Reward 63.9562603048\n",
      "Epoch 200 Reward 63.66163236\n",
      "Epoch 300 Reward 45.3284001719\n",
      "Epoch 400 Reward 45.04190879\n",
      "Epoch 500 Reward 72.7952578608\n"
     ]
    },
    {
     "name": "stderr",
     "output_type": "stream",
     "text": [
      "[2017-02-28 18:52:19,538] Making new env: InvertedDoublePendulum-v1\n"
     ]
    },
    {
     "name": "stdout",
     "output_type": "stream",
     "text": [
      "0 53.8888495197\n",
      "[-1.] [ 1.]\n",
      "(11,)\n",
      "(11,)\n",
      "Epoch 0 Reward 54.7684560125\n",
      "Epoch 100 Reward 35.4820750371\n",
      "Epoch 200 Reward 54.4802917409\n",
      "Epoch 300 Reward 63.1678905327\n",
      "Epoch 400 Reward 82.6682368566\n",
      "Epoch 500 Reward 92.2055297035\n"
     ]
    },
    {
     "name": "stderr",
     "output_type": "stream",
     "text": [
      "[2017-02-28 18:53:58,860] Making new env: InvertedDoublePendulum-v1\n"
     ]
    },
    {
     "name": "stdout",
     "output_type": "stream",
     "text": [
      "1 63.3353395982\n",
      "[-1.] [ 1.]\n",
      "(11,)\n",
      "(11,)\n",
      "Epoch 0 Reward 54.1645092337\n",
      "Epoch 100 Reward 72.8341965963\n",
      "Epoch 200 Reward 54.3408761224\n",
      "Epoch 300 Reward 44.8320623726\n",
      "Epoch 400 Reward 63.9363703941\n",
      "Epoch 500 Reward 91.6587432348\n"
     ]
    },
    {
     "name": "stderr",
     "output_type": "stream",
     "text": [
      "[2017-02-28 18:55:39,557] Making new env: InvertedDoublePendulum-v1\n"
     ]
    },
    {
     "name": "stdout",
     "output_type": "stream",
     "text": [
      "2 73.5679018317\n",
      "[-1.] [ 1.]\n",
      "(11,)\n",
      "(11,)\n",
      "Epoch 0 Reward 26.7908645745\n",
      "Epoch 100 Reward 45.0946009029\n",
      "Epoch 200 Reward 54.2788635452\n",
      "Epoch 300 Reward 64.0747306368\n",
      "Epoch 400 Reward 73.2141857348\n",
      "Epoch 500 Reward 110.463261979\n"
     ]
    },
    {
     "name": "stderr",
     "output_type": "stream",
     "text": [
      "[2017-02-28 18:57:09,649] Making new env: InvertedDoublePendulum-v1\n"
     ]
    },
    {
     "name": "stdout",
     "output_type": "stream",
     "text": [
      "3 63.423441894\n",
      "[-1.] [ 1.]\n",
      "(11,)\n",
      "(11,)\n",
      "Epoch 0 Reward 45.1933464149\n",
      "Epoch 100 Reward 45.1630925906\n",
      "Epoch 200 Reward 54.5343354371\n",
      "Epoch 300 Reward 35.3622949368\n",
      "Epoch 400 Reward 36.0018265154\n",
      "Epoch 500 Reward 45.1562683049\n",
      "4 54.2900858883\n"
     ]
    },
    {
     "data": {
      "image/png": "[encoded data removed]",
      "text/plain": [
       "<matplotlib.figure.Figure at 0x7efefdc2e910>"
      ]
     },
     "metadata": {},
     "output_type": "display_data"
    },
    {
     "name": "stderr",
     "output_type": "stream",
     "text": [
      "[2017-02-28 18:58:32,565] Making new env: InvertedDoublePendulum-v1\n"
     ]
    },
    {
     "name": "stdout",
     "output_type": "stream",
     "text": [
      "4 13 {'strat': {'scale': 1.0, 'decay': 1000}, 'naf': {'nnqParameters': {'hidden_layers': [10], 'nonlinearity': <function tanh at 0x7eff3924d578>}, 'learningParameters': {'discount': 0.95, 'learning_rate': 1e-05}, 'nnpParameters': {'hidden_layers': [1], 'nonlinearity': <function relu at 0x7eff39135848>}, 'nnvParameters': {'hidden_layers': [200], 'nonlinearity': <function tanh at 0x7eff3924d578>}}}\n",
      "{'naf': {'learningParameters': {'discount': 0.95, 'learning_rate': 1e-05},\n",
      "         'nnpParameters': {'hidden_layers': [1],\n",
      "                           'nonlinearity': <function relu at 0x7eff39135848>},\n",
      "         'nnqParameters': {'hidden_layers': [10],\n",
      "                           'nonlinearity': <function tanh at 0x7eff3924d578>},\n",
      "         'nnvParameters': {'hidden_layers': [200],\n",
      "                           'nonlinearity': <function tanh at 0x7eff3924d578>}},\n",
      " 'strat': {'decay': 1000, 'scale': 1.0}}\n",
      "[-1.] [ 1.]\n",
      "(11,)\n",
      "(11,)\n",
      "Epoch 0 Reward 53.9721596884\n",
      "Epoch 100 Reward 44.9178589442\n",
      "Epoch 200 Reward 35.4821915229\n",
      "Epoch 300 Reward 54.6864418031\n",
      "Epoch 400 Reward 36.0302878991\n",
      "Epoch 500 Reward 45.2088463474\n"
     ]
    },
    {
     "name": "stderr",
     "output_type": "stream",
     "text": [
      "[2017-02-28 18:59:46,987] Making new env: InvertedDoublePendulum-v1\n"
     ]
    },
    {
     "name": "stdout",
     "output_type": "stream",
     "text": [
      "0 45.4151385926\n",
      "[-1.] [ 1.]\n",
      "(11,)\n",
      "(11,)\n",
      "Epoch 0 Reward 35.7227522818\n",
      "Epoch 100 Reward 54.3765561293\n",
      "Epoch 200 Reward 45.3601319525\n",
      "Epoch 300 Reward 63.9525347935\n",
      "Epoch 400 Reward 36.0757261013\n",
      "Epoch 500 Reward 44.7037091802\n"
     ]
    },
    {
     "name": "stderr",
     "output_type": "stream",
     "text": [
      "[2017-02-28 19:01:07,198] Making new env: InvertedDoublePendulum-v1\n"
     ]
    },
    {
     "name": "stdout",
     "output_type": "stream",
     "text": [
      "1 45.0514120115\n",
      "[-1.] [ 1.]\n",
      "(11,)\n",
      "(11,)\n",
      "Epoch 0 Reward 54.2808903253\n",
      "Epoch 100 Reward 35.6254173754\n",
      "Epoch 200 Reward 63.7201453177\n",
      "Epoch 300 Reward 82.4631177437\n",
      "Epoch 400 Reward 101.751026925\n",
      "Epoch 500 Reward 72.5609216517\n"
     ]
    },
    {
     "name": "stderr",
     "output_type": "stream",
     "text": [
      "[2017-02-28 19:02:31,061] Making new env: InvertedDoublePendulum-v1\n"
     ]
    },
    {
     "name": "stdout",
     "output_type": "stream",
     "text": [
      "2 45.0169669803\n",
      "[-1.] [ 1.]\n",
      "(11,)\n",
      "(11,)\n",
      "Epoch 0 Reward 26.7949979213\n",
      "Epoch 100 Reward 63.5477202085\n",
      "Epoch 200 Reward 73.0812300548\n",
      "Epoch 300 Reward 63.949248811\n",
      "Epoch 400 Reward 54.1764573802\n",
      "Epoch 500 Reward 63.8260944097\n"
     ]
    },
    {
     "name": "stderr",
     "output_type": "stream",
     "text": [
      "[2017-02-28 19:04:02,724] Making new env: InvertedDoublePendulum-v1\n"
     ]
    },
    {
     "name": "stdout",
     "output_type": "stream",
     "text": [
      "3 100.937901144\n",
      "[-1.] [ 1.]\n",
      "(11,)\n",
      "(11,)\n",
      "Epoch 0 Reward 45.1467182998\n",
      "Epoch 100 Reward 35.8240674996\n",
      "Epoch 200 Reward 54.2181083722\n",
      "Epoch 300 Reward 73.0548761684\n",
      "Epoch 400 Reward 45.4736876997\n",
      "Epoch 500 Reward 35.8312237522\n",
      "4 72.8034737795\n"
     ]
    },
    {
     "data": {
      "image/png": "[encoded data removed]",
      "text/plain": [
       "<matplotlib.figure.Figure at 0x7efefcdfc410>"
      ]
     },
     "metadata": {},
     "output_type": "display_data"
    },
    {
     "name": "stderr",
     "output_type": "stream",
     "text": [
      "[2017-02-28 19:05:33,116] Making new env: InvertedDoublePendulum-v1\n"
     ]
    },
    {
     "name": "stdout",
     "output_type": "stream",
     "text": [
      "5 13 {'strat': {'scale': 1.0, 'decay': 1000}, 'naf': {'nnqParameters': {'hidden_layers': [20], 'nonlinearity': <function tanh at 0x7eff3924d578>}, 'learningParameters': {'discount': 0.95, 'learning_rate': 0.0001}, 'nnpParameters': {'hidden_layers': [1], 'nonlinearity': <function relu at 0x7eff39135848>}, 'nnvParameters': {'hidden_layers': [400], 'nonlinearity': <function tanh at 0x7eff3924d578>}}}\n",
      "{'naf': {'learningParameters': {'discount': 0.95, 'learning_rate': 0.0001},\n",
      "         'nnpParameters': {'hidden_layers': [1],\n",
      "                           'nonlinearity': <function relu at 0x7eff39135848>},\n",
      "         'nnqParameters': {'hidden_layers': [20],\n",
      "                           'nonlinearity': <function tanh at 0x7eff3924d578>},\n",
      "         'nnvParameters': {'hidden_layers': [400],\n",
      "                           'nonlinearity': <function tanh at 0x7eff3924d578>}},\n",
      " 'strat': {'decay': 1000, 'scale': 1.0}}\n",
      "[-1.] [ 1.]\n",
      "(11,)\n",
      "(11,)\n",
      "Epoch 0 Reward 53.923856071\n",
      "Epoch 100 Reward 45.0332213776\n",
      "Epoch 200 Reward 63.3656369191\n",
      "Epoch 300 Reward 54.085981794\n",
      "Epoch 400 Reward 45.5408241537\n",
      "Epoch 500 Reward 54.4627145226\n"
     ]
    },
    {
     "name": "stderr",
     "output_type": "stream",
     "text": [
      "[2017-02-28 19:07:09,665] Making new env: InvertedDoublePendulum-v1\n"
     ]
    },
    {
     "name": "stdout",
     "output_type": "stream",
     "text": [
      "0 73.7304340971\n",
      "[-1.] [ 1.]\n",
      "(11,)\n",
      "(11,)\n",
      "Epoch 0 Reward 82.3298143387\n",
      "Epoch 100 Reward 35.2805171591\n",
      "Epoch 200 Reward 44.8150711978\n",
      "Epoch 300 Reward 91.9440500158\n",
      "Epoch 400 Reward 91.8232471518\n",
      "Epoch 500 Reward 63.2281038128\n"
     ]
    },
    {
     "name": "stderr",
     "output_type": "stream",
     "text": [
      "[2017-02-28 19:09:03,233] Making new env: InvertedDoublePendulum-v1\n"
     ]
    },
    {
     "name": "stdout",
     "output_type": "stream",
     "text": [
      "1 73.1125775253\n",
      "[-1.] [ 1.]\n",
      "(11,)\n",
      "(11,)\n",
      "Epoch 0 Reward 44.9395977841\n",
      "Epoch 100 Reward 35.7642497768\n",
      "Epoch 200 Reward 44.6072589991\n",
      "Epoch 300 Reward 82.1786758023\n",
      "Epoch 400 Reward 82.5656948004\n",
      "Epoch 500 Reward 138.221521279\n"
     ]
    },
    {
     "name": "stderr",
     "output_type": "stream",
     "text": [
      "[2017-02-28 19:11:01,749] Making new env: InvertedDoublePendulum-v1\n"
     ]
    },
    {
     "name": "stdout",
     "output_type": "stream",
     "text": [
      "2 101.467145313\n",
      "[-1.] [ 1.]\n",
      "(11,)\n",
      "(11,)\n",
      "Epoch 0 Reward 90.9774534208\n",
      "Epoch 100 Reward 82.3645880813\n",
      "Epoch 200 Reward 63.6095823861\n",
      "Epoch 300 Reward 82.3378584499\n",
      "Epoch 400 Reward 72.7335951078\n",
      "Epoch 500 Reward 91.9153787244\n"
     ]
    },
    {
     "name": "stderr",
     "output_type": "stream",
     "text": [
      "[2017-02-28 19:13:07,533] Making new env: InvertedDoublePendulum-v1\n"
     ]
    },
    {
     "name": "stdout",
     "output_type": "stream",
     "text": [
      "3 63.9994734112\n",
      "[-1.] [ 1.]\n",
      "(11,)\n",
      "(11,)\n",
      "Epoch 0 Reward 45.1912570362\n",
      "Epoch 100 Reward 54.8999079332\n",
      "Epoch 200 Reward 35.7232970406\n",
      "Epoch 300 Reward 82.4458828769\n",
      "Epoch 400 Reward 45.2423405394\n",
      "Epoch 500 Reward 45.1344021009\n",
      "4 35.5677950515\n"
     ]
    },
    {
     "data": {
      "image/png": "[encoded data removed]",
      "text/plain": [
       "<matplotlib.figure.Figure at 0x7efefaeea210>"
      ]
     },
     "metadata": {},
     "output_type": "display_data"
    },
    {
     "name": "stderr",
     "output_type": "stream",
     "text": [
      "[2017-02-28 19:14:16,348] Making new env: InvertedDoublePendulum-v1\n"
     ]
    },
    {
     "name": "stdout",
     "output_type": "stream",
     "text": [
      "6 13 {'strat': {'scale': 1.0, 'decay': 1000}, 'naf': {'nnqParameters': {'hidden_layers': [10, 10], 'nonlinearity': <function tanh at 0x7eff3924d578>}, 'learningParameters': {'discount': 0.95, 'learning_rate': 0.0001}, 'nnpParameters': {'hidden_layers': [1, 1], 'nonlinearity': <function relu at 0x7eff39135848>}, 'nnvParameters': {'hidden_layers': [200, 200], 'nonlinearity': <function tanh at 0x7eff3924d578>}}}\n",
      "{'naf': {'learningParameters': {'discount': 0.95, 'learning_rate': 0.0001},\n",
      "         'nnpParameters': {'hidden_layers': [1, 1],\n",
      "                           'nonlinearity': <function relu at 0x7eff39135848>},\n",
      "         'nnqParameters': {'hidden_layers': [10, 10],\n",
      "                           'nonlinearity': <function tanh at 0x7eff3924d578>},\n",
      "         'nnvParameters': {'hidden_layers': [200, 200],\n",
      "                           'nonlinearity': <function tanh at 0x7eff3924d578>}},\n",
      " 'strat': {'decay': 1000, 'scale': 1.0}}\n",
      "[-1.] [ 1.]\n",
      "(11,)\n",
      "(11,)\n",
      "Epoch 0 Reward 45.0059985695\n",
      "Epoch 100 Reward 35.3786055893\n",
      "Epoch 200 Reward 45.5994284519\n",
      "Epoch 300 Reward 64.0751301969\n",
      "Epoch 400 Reward 72.7437115265\n",
      "Epoch 500 Reward 157.272625444\n"
     ]
    },
    {
     "name": "stderr",
     "output_type": "stream",
     "text": [
      "[2017-02-28 19:15:57,473] Making new env: InvertedDoublePendulum-v1\n"
     ]
    },
    {
     "name": "stdout",
     "output_type": "stream",
     "text": [
      "0 91.3244602792\n",
      "[-1.] [ 1.]\n",
      "(11,)\n",
      "(11,)\n",
      "Epoch 0 Reward 36.1245537758\n",
      "Epoch 100 Reward 63.4971917554\n",
      "Epoch 200 Reward 91.443654645\n",
      "Epoch 300 Reward 63.3688168902\n",
      "Epoch 400 Reward 53.8788748572\n",
      "Epoch 500 Reward 54.6793270948\n"
     ]
    },
    {
     "name": "stderr",
     "output_type": "stream",
     "text": [
      "[2017-02-28 19:18:01,326] Making new env: InvertedDoublePendulum-v1\n"
     ]
    },
    {
     "name": "stdout",
     "output_type": "stream",
     "text": [
      "1 137.998757497\n",
      "[-1.] [ 1.]\n",
      "(11,)\n",
      "(11,)\n",
      "Epoch 0 Reward 44.5820249376\n",
      "Epoch 100 Reward 44.8633598081\n",
      "Epoch 200 Reward 110.656085406\n",
      "Epoch 300 Reward 63.2476370724\n",
      "Epoch 400 Reward 71.7411996164\n",
      "Epoch 500 Reward 129.467484299\n"
     ]
    },
    {
     "name": "stderr",
     "output_type": "stream",
     "text": [
      "[2017-02-28 19:19:57,974] Making new env: InvertedDoublePendulum-v1\n"
     ]
    },
    {
     "name": "stdout",
     "output_type": "stream",
     "text": [
      "2 82.9402069024\n",
      "[-1.] [ 1.]\n",
      "(11,)\n",
      "(11,)\n",
      "Epoch 0 Reward 35.4653932954\n",
      "Epoch 100 Reward 45.2075846242\n",
      "Epoch 200 Reward 54.2048871187\n",
      "Epoch 300 Reward 73.22004815\n",
      "Epoch 400 Reward 174.913804241\n",
      "Epoch 500 Reward 148.186029427\n"
     ]
    },
    {
     "name": "stderr",
     "output_type": "stream",
     "text": [
      "[2017-02-28 19:21:50,412] Making new env: InvertedDoublePendulum-v1\n"
     ]
    },
    {
     "name": "stdout",
     "output_type": "stream",
     "text": [
      "3 111.061524822\n",
      "[-1.] [ 1.]\n",
      "(11,)\n",
      "(11,)\n",
      "Epoch 0 Reward 81.9359251763\n",
      "Epoch 100 Reward 45.2043288399\n",
      "Epoch 200 Reward 44.8021027745\n",
      "Epoch 300 Reward 63.3230492954\n",
      "Epoch 400 Reward 148.071343895\n",
      "Epoch 500 Reward 82.4457355321\n",
      "4 101.285758459\n"
     ]
    },
    {
     "data": {
      "image/png": "[encoded data removed]",
      "text/plain": [
       "<matplotlib.figure.Figure at 0x7efef8e45b90>"
      ]
     },
     "metadata": {},
     "output_type": "display_data"
    },
    {
     "name": "stderr",
     "output_type": "stream",
     "text": [
      "[2017-02-28 19:23:32,660] Making new env: InvertedDoublePendulum-v1\n"
     ]
    },
    {
     "name": "stdout",
     "output_type": "stream",
     "text": [
      "7 13 {'strat': {'scale': 1.0, 'decay': 1000}, 'naf': {'nnqParameters': {'hidden_layers': [10, 10, 10], 'nonlinearity': <function tanh at 0x7eff3924d578>}, 'learningParameters': {'discount': 0.75, 'learning_rate': 0.001}, 'nnpParameters': {'hidden_layers': [5], 'nonlinearity': <function relu at 0x7eff39135848>}, 'nnvParameters': {'hidden_layers': [400], 'nonlinearity': <function relu at 0x7eff39135848>}}}\n",
      "{'naf': {'learningParameters': {'discount': 0.75, 'learning_rate': 0.001},\n",
      "         'nnpParameters': {'hidden_layers': [5],\n",
      "                           'nonlinearity': <function relu at 0x7eff39135848>},\n",
      "         'nnqParameters': {'hidden_layers': [10, 10, 10],\n",
      "                           'nonlinearity': <function tanh at 0x7eff3924d578>},\n",
      "         'nnvParameters': {'hidden_layers': [400],\n",
      "                           'nonlinearity': <function relu at 0x7eff39135848>}},\n",
      " 'strat': {'decay': 1000, 'scale': 1.0}}\n",
      "[-1.] [ 1.]\n",
      "(11,)\n",
      "(11,)\n",
      "Epoch 0 Reward 44.9418293447\n",
      "Epoch 100 Reward 63.4601403025\n",
      "Epoch 200 Reward 53.9450479368\n",
      "Epoch 300 Reward 72.9679568353\n",
      "Epoch 400 Reward 91.1733292312\n",
      "Epoch 500 Reward 137.807200001\n"
     ]
    },
    {
     "name": "stderr",
     "output_type": "stream",
     "text": [
      "[2017-02-28 19:24:58,833] Making new env: InvertedDoublePendulum-v1\n"
     ]
    },
    {
     "name": "stdout",
     "output_type": "stream",
     "text": [
      "0 111.077640914\n",
      "[-1.] [ 1.]\n",
      "(11,)\n",
      "(11,)\n",
      "Epoch 0 Reward 82.2115918842\n",
      "Epoch 100 Reward 35.4144763199\n",
      "Epoch 200 Reward 36.0203069964\n",
      "Epoch 300 Reward 35.9252661704\n",
      "Epoch 400 Reward 73.3351574051\n",
      "Epoch 500 Reward 45.5410584056\n"
     ]
    },
    {
     "name": "stderr",
     "output_type": "stream",
     "text": [
      "[2017-02-28 19:26:00,316] Making new env: InvertedDoublePendulum-v1\n"
     ]
    },
    {
     "name": "stdout",
     "output_type": "stream",
     "text": [
      "1 45.2937174864\n",
      "[-1.] [ 1.]\n",
      "(11,)\n",
      "(11,)\n",
      "Epoch 0 Reward 35.8071865912\n",
      "Epoch 100 Reward 73.3258443346\n",
      "Epoch 200 Reward 45.6241650363\n",
      "Epoch 300 Reward 45.1919694719\n",
      "Epoch 400 Reward 35.8262399914\n",
      "Epoch 500 Reward 44.8749383212\n"
     ]
    },
    {
     "name": "stderr",
     "output_type": "stream",
     "text": [
      "[2017-02-28 19:26:55,659] Making new env: InvertedDoublePendulum-v1\n"
     ]
    },
    {
     "name": "stdout",
     "output_type": "stream",
     "text": [
      "2 54.8948139913\n",
      "[-1.] [ 1.]\n",
      "(11,)\n",
      "(11,)\n",
      "Epoch 0 Reward 44.8700862859\n",
      "Epoch 100 Reward 63.2241163511\n",
      "Epoch 200 Reward 73.2715533463\n",
      "Epoch 300 Reward 54.3072131559\n",
      "Epoch 400 Reward 73.4494629318\n",
      "Epoch 500 Reward 63.8489961722\n"
     ]
    },
    {
     "name": "stderr",
     "output_type": "stream",
     "text": [
      "[2017-02-28 19:28:19,775] Making new env: InvertedDoublePendulum-v1\n"
     ]
    },
    {
     "name": "stdout",
     "output_type": "stream",
     "text": [
      "3 147.17369466\n",
      "[-1.] [ 1.]\n",
      "(11,)\n",
      "(11,)\n",
      "Epoch 0 Reward 26.8412837036\n",
      "Epoch 100 Reward 36.0752453912\n",
      "Epoch 200 Reward 44.7206980921\n",
      "Epoch 300 Reward 63.9969069167\n",
      "Epoch 400 Reward 45.3602775954\n",
      "Epoch 500 Reward 54.1670803179\n",
      "4 82.3052303295\n"
     ]
    },
    {
     "data": {
      "image/png": "[encoded data removed]",
      "text/plain": [
       "<matplotlib.figure.Figure at 0x7efef6b06690>"
      ]
     },
     "metadata": {},
     "output_type": "display_data"
    },
    {
     "name": "stderr",
     "output_type": "stream",
     "text": [
      "[2017-02-28 19:29:28,900] Making new env: InvertedDoublePendulum-v1\n"
     ]
    },
    {
     "name": "stdout",
     "output_type": "stream",
     "text": [
      "8 13 {'strat': {'scale': 1.0, 'decay': 1000}, 'naf': {'nnqParameters': {'hidden_layers': [10, 10, 10], 'nonlinearity': <function tanh at 0x7eff3924d578>}, 'learningParameters': {'discount': 0.5, 'learning_rate': 0.001}, 'nnpParameters': {'hidden_layers': [5], 'nonlinearity': <function relu at 0x7eff39135848>}, 'nnvParameters': {'hidden_layers': [400], 'nonlinearity': <function relu at 0x7eff39135848>}}}\n",
      "{'naf': {'learningParameters': {'discount': 0.5, 'learning_rate': 0.001},\n",
      "         'nnpParameters': {'hidden_layers': [5],\n",
      "                           'nonlinearity': <function relu at 0x7eff39135848>},\n",
      "         'nnqParameters': {'hidden_layers': [10, 10, 10],\n",
      "                           'nonlinearity': <function tanh at 0x7eff3924d578>},\n",
      "         'nnvParameters': {'hidden_layers': [400],\n",
      "                           'nonlinearity': <function relu at 0x7eff39135848>}},\n",
      " 'strat': {'decay': 1000, 'scale': 1.0}}\n",
      "[-1.] [ 1.]\n",
      "(11,)\n",
      "(11,)\n",
      "Epoch 0 Reward 35.7266774134\n",
      "Epoch 100 Reward 54.3058131383\n",
      "Epoch 200 Reward 82.5699968134\n",
      "Epoch 300 Reward 110.698232725\n",
      "Epoch 400 Reward 73.227338352\n",
      "Epoch 500 Reward 138.175795794\n"
     ]
    },
    {
     "name": "stderr",
     "output_type": "stream",
     "text": [
      "[2017-02-28 19:31:04,008] Making new env: InvertedDoublePendulum-v1\n"
     ]
    },
    {
     "name": "stdout",
     "output_type": "stream",
     "text": [
      "0 63.9257342234\n",
      "[-1.] [ 1.]\n",
      "(11,)\n",
      "(11,)\n",
      "Epoch 0 Reward 26.8445752047\n",
      "Epoch 100 Reward 34.869581642\n",
      "Epoch 200 Reward 54.4569367258\n",
      "Epoch 300 Reward 54.1284507624\n",
      "Epoch 400 Reward 54.7474331191\n",
      "Epoch 500 Reward 35.9045750058\n"
     ]
    },
    {
     "name": "stderr",
     "output_type": "stream",
     "text": [
      "[2017-02-28 19:32:01,238] Making new env: InvertedDoublePendulum-v1\n"
     ]
    },
    {
     "name": "stdout",
     "output_type": "stream",
     "text": [
      "1 35.8630647085\n",
      "[-1.] [ 1.]\n",
      "(11,)\n",
      "(11,)\n",
      "Epoch 0 Reward 35.8382317431\n",
      "Epoch 100 Reward 54.811610194\n",
      "Epoch 200 Reward 63.887208743\n",
      "Epoch 300 Reward 35.4617459964\n",
      "Epoch 400 Reward 45.5191403715\n",
      "Epoch 500 Reward 73.0735245921\n"
     ]
    },
    {
     "name": "stderr",
     "output_type": "stream",
     "text": [
      "[2017-02-28 19:33:08,845] Making new env: InvertedDoublePendulum-v1\n"
     ]
    },
    {
     "name": "stdout",
     "output_type": "stream",
     "text": [
      "2 54.3815005389\n",
      "[-1.] [ 1.]\n",
      "(11,)\n",
      "(11,)\n",
      "Epoch 0 Reward 71.1496134972\n",
      "Epoch 100 Reward 100.786243986\n",
      "Epoch 200 Reward 73.2456153652\n",
      "Epoch 300 Reward 36.1527116761\n",
      "Epoch 400 Reward 54.3016448928\n",
      "Epoch 500 Reward 82.6141283237\n"
     ]
    },
    {
     "name": "stderr",
     "output_type": "stream",
     "text": [
      "[2017-02-28 19:34:18,316] Making new env: InvertedDoublePendulum-v1\n"
     ]
    },
    {
     "name": "stdout",
     "output_type": "stream",
     "text": [
      "3 64.1327242811\n",
      "[-1.] [ 1.]\n",
      "(11,)\n",
      "(11,)\n",
      "Epoch 0 Reward 35.6933839582\n",
      "Epoch 100 Reward 44.9390511559\n",
      "Epoch 200 Reward 35.6222669904\n",
      "Epoch 300 Reward 82.0011644861\n",
      "Epoch 400 Reward 72.674212966\n",
      "Epoch 500 Reward 64.3587409308\n",
      "4 73.1809831683\n"
     ]
    },
    {
     "data": {
      "image/png": "[encoded data removed]",
      "text/plain": [
       "<matplotlib.figure.Figure at 0x7efef4986d50>"
      ]
     },
     "metadata": {},
     "output_type": "display_data"
    },
    {
     "name": "stderr",
     "output_type": "stream",
     "text": [
      "[2017-02-28 19:35:41,241] Making new env: InvertedDoublePendulum-v1\n"
     ]
    },
    {
     "name": "stdout",
     "output_type": "stream",
     "text": [
      "9 13 {'strat': {'scale': 1.0, 'decay': 1000}, 'naf': {'nnqParameters': {'hidden_layers': [20, 20, 20], 'nonlinearity': <function tanh at 0x7eff3924d578>}, 'learningParameters': {'discount': 0.75, 'learning_rate': 0.001}, 'nnpParameters': {'hidden_layers': [5], 'nonlinearity': <function relu at 0x7eff39135848>}, 'nnvParameters': {'hidden_layers': [400], 'nonlinearity': <function relu at 0x7eff39135848>}}}\n",
      "{'naf': {'learningParameters': {'discount': 0.75, 'learning_rate': 0.001},\n",
      "         'nnpParameters': {'hidden_layers': [5],\n",
      "                           'nonlinearity': <function relu at 0x7eff39135848>},\n",
      "         'nnqParameters': {'hidden_layers': [20, 20, 20],\n",
      "                           'nonlinearity': <function tanh at 0x7eff3924d578>},\n",
      "         'nnvParameters': {'hidden_layers': [400],\n",
      "                           'nonlinearity': <function relu at 0x7eff39135848>}},\n",
      " 'strat': {'decay': 1000, 'scale': 1.0}}\n",
      "[-1.] [ 1.]\n",
      "(11,)\n",
      "(11,)\n",
      "Epoch 0 Reward -99999999\n",
      "Epoch 100 Reward -99999999\n",
      "Epoch 200 Reward -99999999\n",
      "Epoch 300 Reward -99999999\n",
      "Epoch 400 Reward -99999999\n",
      "Epoch 500 Reward -99999999\n"
     ]
    },
    {
     "name": "stderr",
     "output_type": "stream",
     "text": [
      "[2017-02-28 19:35:47,853] Making new env: InvertedDoublePendulum-v1\n"
     ]
    },
    {
     "name": "stdout",
     "output_type": "stream",
     "text": [
      "0 -99999999\n",
      "[-1.] [ 1.]\n",
      "(11,)\n",
      "(11,)\n",
      "Epoch 0 Reward 35.9172534277\n",
      "Epoch 100 Reward 45.3253677381\n",
      "Epoch 200 Reward 73.3867866741\n",
      "Epoch 300 Reward 73.4040423001\n",
      "Epoch 400 Reward 82.6421649136\n",
      "Epoch 500 Reward 73.4883952618\n"
     ]
    },
    {
     "name": "stderr",
     "output_type": "stream",
     "text": [
      "[2017-02-28 19:37:33,418] Making new env: InvertedDoublePendulum-v1\n"
     ]
    },
    {
     "name": "stdout",
     "output_type": "stream",
     "text": [
      "1 156.729775806\n",
      "[-1.] [ 1.]\n",
      "(11,)\n",
      "(11,)\n",
      "Epoch 0 Reward 35.2575119987\n",
      "Epoch 100 Reward -99999999\n",
      "Epoch 200 Reward -99999999\n",
      "Epoch 300 Reward -99999999\n",
      "Epoch 400 Reward -99999999\n",
      "Epoch 500 Reward -99999999\n"
     ]
    },
    {
     "name": "stderr",
     "output_type": "stream",
     "text": [
      "[2017-02-28 19:37:42,128] Making new env: InvertedDoublePendulum-v1\n"
     ]
    },
    {
     "name": "stdout",
     "output_type": "stream",
     "text": [
      "2 -99999999\n",
      "[-1.] [ 1.]\n",
      "(11,)\n",
      "(11,)\n",
      "Epoch 0 Reward 54.7262011483\n",
      "Epoch 100 Reward 64.2575786321\n",
      "Epoch 200 Reward 82.1043650756\n",
      "Epoch 300 Reward 110.06183181\n",
      "Epoch 400 Reward 63.8369992749\n",
      "Epoch 500 Reward 73.2338350244\n"
     ]
    },
    {
     "name": "stderr",
     "output_type": "stream",
     "text": [
      "[2017-02-28 19:39:10,808] Making new env: InvertedDoublePendulum-v1\n"
     ]
    },
    {
     "name": "stdout",
     "output_type": "stream",
     "text": [
      "3 91.4239594072\n",
      "[-1.] [ 1.]\n",
      "(11,)\n",
      "(11,)\n",
      "Epoch 0 Reward -99999999\n",
      "Epoch 100 Reward -99999999\n",
      "Epoch 200 Reward -99999999\n",
      "Epoch 300 Reward -99999999\n",
      "Epoch 400 Reward -99999999\n",
      "Epoch 500 Reward -99999999\n",
      "4 -99999999\n"
     ]
    },
    {
     "data": {
      "image/png": "[encoded data removed]",
      "text/plain": [
       "<matplotlib.figure.Figure at 0x7efef6f5d810>"
      ]
     },
     "metadata": {},
     "output_type": "display_data"
    },
    {
     "name": "stderr",
     "output_type": "stream",
     "text": [
      "[2017-02-28 19:39:17,888] Making new env: InvertedDoublePendulum-v1\n"
     ]
    },
    {
     "name": "stdout",
     "output_type": "stream",
     "text": [
      "10 13 {'strat': {'scale': 1.0, 'decay': 1000}, 'naf': {'nnqParameters': {'hidden_layers': [10, 10, 10], 'nonlinearity': <function tanh at 0x7eff3924d578>}, 'learningParameters': {'discount': 0.75, 'learning_rate': 0.001}, 'nnpParameters': {'hidden_layers': [5], 'nonlinearity': <function relu at 0x7eff39135848>}, 'nnvParameters': {'hidden_layers': [800], 'nonlinearity': <function relu at 0x7eff39135848>}}}\n",
      "{'naf': {'learningParameters': {'discount': 0.75, 'learning_rate': 0.001},\n",
      "         'nnpParameters': {'hidden_layers': [5],\n",
      "                           'nonlinearity': <function relu at 0x7eff39135848>},\n",
      "         'nnqParameters': {'hidden_layers': [10, 10, 10],\n",
      "                           'nonlinearity': <function tanh at 0x7eff3924d578>},\n",
      "         'nnvParameters': {'hidden_layers': [800],\n",
      "                           'nonlinearity': <function relu at 0x7eff39135848>}},\n",
      " 'strat': {'decay': 1000, 'scale': 1.0}}\n",
      "[-1.] [ 1.]\n",
      "(11,)\n",
      "(11,)\n",
      "Epoch 0 Reward 91.3037644531\n",
      "Epoch 100 Reward 63.1746410954\n",
      "Epoch 200 Reward 35.6537126418\n",
      "Epoch 300 Reward 35.5038304218\n",
      "Epoch 400 Reward 35.9915392593\n",
      "Epoch 500 Reward 35.5791637646\n"
     ]
    },
    {
     "name": "stderr",
     "output_type": "stream",
     "text": [
      "[2017-02-28 19:40:18,559] Making new env: InvertedDoublePendulum-v1\n"
     ]
    },
    {
     "name": "stdout",
     "output_type": "stream",
     "text": [
      "0 35.9477925364\n",
      "[-1.] [ 1.]\n",
      "(11,)\n",
      "(11,)\n",
      "Epoch 0 Reward 63.9276257241\n",
      "Epoch 100 Reward 26.7423425262\n",
      "Epoch 200 Reward 147.429504891\n",
      "Epoch 300 Reward 54.5416154385\n",
      "Epoch 400 Reward 63.8191463576\n",
      "Epoch 500 Reward 82.0629360382\n"
     ]
    },
    {
     "name": "stderr",
     "output_type": "stream",
     "text": [
      "[2017-02-28 19:42:16,032] Making new env: InvertedDoublePendulum-v1\n"
     ]
    },
    {
     "name": "stdout",
     "output_type": "stream",
     "text": [
      "1 92.0142959443\n",
      "[-1.] [ 1.]\n",
      "(11,)\n",
      "(11,)\n",
      "Epoch 0 Reward 44.6997931021\n",
      "Epoch 100 Reward -99999999\n",
      "Epoch 200 Reward -99999999\n",
      "Epoch 300 Reward -99999999\n",
      "Epoch 400 Reward -99999999\n",
      "Epoch 500 Reward -99999999\n"
     ]
    },
    {
     "name": "stderr",
     "output_type": "stream",
     "text": [
      "[2017-02-28 19:42:23,969] Making new env: InvertedDoublePendulum-v1\n"
     ]
    },
    {
     "name": "stdout",
     "output_type": "stream",
     "text": [
      "2 -99999999\n",
      "[-1.] [ 1.]\n",
      "(11,)\n",
      "(11,)\n",
      "Epoch 0 Reward 45.3054558987\n",
      "Epoch 100 Reward -99999999\n",
      "Epoch 200 Reward -99999999\n",
      "Epoch 300 Reward -99999999\n",
      "Epoch 400 Reward -99999999\n",
      "Epoch 500 Reward -99999999\n"
     ]
    },
    {
     "name": "stderr",
     "output_type": "stream",
     "text": [
      "[2017-02-28 19:42:32,338] Making new env: InvertedDoublePendulum-v1\n"
     ]
    },
    {
     "name": "stdout",
     "output_type": "stream",
     "text": [
      "3 -99999999\n",
      "[-1.] [ 1.]\n",
      "(11,)\n",
      "(11,)\n",
      "Epoch 0 Reward 36.1457741644\n",
      "Epoch 100 Reward -99999999\n",
      "Epoch 200 Reward -99999999\n",
      "Epoch 300 Reward -99999999\n",
      "Epoch 400 Reward -99999999\n",
      "Epoch 500 Reward -99999999\n",
      "4 -99999999\n"
     ]
    },
    {
     "data": {
      "image/png": "[encoded data removed]",
      "text/plain": [
       "<matplotlib.figure.Figure at 0x7efeefc42650>"
      ]
     },
     "metadata": {},
     "output_type": "display_data"
    },
    {
     "name": "stderr",
     "output_type": "stream",
     "text": [
      "[2017-02-28 19:42:41,892] Making new env: InvertedDoublePendulum-v1\n"
     ]
    },
    {
     "name": "stdout",
     "output_type": "stream",
     "text": [
      "11 13 {'strat': {'scale': 1.0, 'decay': 400}, 'naf': {'nnqParameters': {'hidden_layers': [10, 10, 10], 'nonlinearity': <function tanh at 0x7eff3924d578>}, 'learningParameters': {'discount': 0.75, 'learning_rate': 0.001}, 'nnpParameters': {'hidden_layers': [5], 'nonlinearity': <function relu at 0x7eff39135848>}, 'nnvParameters': {'hidden_layers': [800], 'nonlinearity': <function relu at 0x7eff39135848>}}}\n",
      "{'naf': {'learningParameters': {'discount': 0.75, 'learning_rate': 0.001},\n",
      "         'nnpParameters': {'hidden_layers': [5],\n",
      "                           'nonlinearity': <function relu at 0x7eff39135848>},\n",
      "         'nnqParameters': {'hidden_layers': [10, 10, 10],\n",
      "                           'nonlinearity': <function tanh at 0x7eff3924d578>},\n",
      "         'nnvParameters': {'hidden_layers': [800],\n",
      "                           'nonlinearity': <function relu at 0x7eff39135848>}},\n",
      " 'strat': {'decay': 400, 'scale': 1.0}}\n",
      "[-1.] [ 1.]\n",
      "(11,)\n",
      "(11,)\n",
      "Epoch 0 Reward 36.195177546\n",
      "Epoch 100 Reward 63.7217775288\n",
      "Epoch 200 Reward 92.1211824546\n",
      "Epoch 300 Reward 73.1630040028\n",
      "Epoch 400 Reward 129.604920748\n",
      "Epoch 500 Reward 82.9870219438\n"
     ]
    },
    {
     "name": "stderr",
     "output_type": "stream",
     "text": [
      "[2017-02-28 19:44:36,267] Making new env: InvertedDoublePendulum-v1\n"
     ]
    },
    {
     "name": "stdout",
     "output_type": "stream",
     "text": [
      "0 111.135452129\n",
      "[-1.] [ 1.]\n",
      "(11,)\n",
      "(11,)\n",
      "Epoch 0 Reward 63.6479285643\n",
      "Epoch 100 Reward 63.4877487887\n",
      "Epoch 200 Reward 91.8010751806\n",
      "Epoch 300 Reward 101.760540484\n",
      "Epoch 400 Reward 120.105536701\n",
      "Epoch 500 Reward 147.35832389\n"
     ]
    },
    {
     "name": "stderr",
     "output_type": "stream",
     "text": [
      "[2017-02-28 19:46:52,589] Making new env: InvertedDoublePendulum-v1\n"
     ]
    },
    {
     "name": "stdout",
     "output_type": "stream",
     "text": [
      "1 204.409176313\n",
      "[-1.] [ 1.]\n",
      "(11,)\n",
      "(11,)\n",
      "Epoch 0 Reward 54.02564075\n",
      "Epoch 100 Reward -99999999\n",
      "Epoch 200 Reward -99999999\n",
      "Epoch 300 Reward -99999999\n",
      "Epoch 400 Reward -99999999\n",
      "Epoch 500 Reward -99999999\n"
     ]
    },
    {
     "name": "stderr",
     "output_type": "stream",
     "text": [
      "[2017-02-28 19:47:01,558] Making new env: InvertedDoublePendulum-v1\n"
     ]
    },
    {
     "name": "stdout",
     "output_type": "stream",
     "text": [
      "2 -99999999\n",
      "[-1.] [ 1.]\n",
      "(11,)\n",
      "(11,)\n",
      "Epoch 0 Reward 45.2885879881\n",
      "Epoch 100 Reward -99999999\n",
      "Epoch 200 Reward -99999999\n",
      "Epoch 300 Reward -99999999\n",
      "Epoch 400 Reward -99999999\n",
      "Epoch 500 Reward -99999999\n"
     ]
    },
    {
     "name": "stderr",
     "output_type": "stream",
     "text": [
      "[2017-02-28 19:47:11,266] Making new env: InvertedDoublePendulum-v1\n"
     ]
    },
    {
     "name": "stdout",
     "output_type": "stream",
     "text": [
      "3 -99999999\n",
      "[-1.] [ 1.]\n",
      "(11,)\n",
      "(11,)\n",
      "Epoch 0 Reward 45.0312003026\n",
      "Epoch 100 Reward 54.5127722509\n",
      "Epoch 200 Reward 35.9738318731\n",
      "Epoch 300 Reward 63.7350032016\n",
      "Epoch 400 Reward 110.954427609\n",
      "Epoch 500 Reward 73.6959928741\n",
      "4 129.26304249\n"
     ]
    },
    {
     "data": {
      "image/png": "[encoded data removed]",
      "text/plain": [
       "<matplotlib.figure.Figure at 0x7efef4961790>"
      ]
     },
     "metadata": {},
     "output_type": "display_data"
    },
    {
     "name": "stderr",
     "output_type": "stream",
     "text": [
      "[2017-02-28 19:49:06,676] Making new env: InvertedDoublePendulum-v1\n"
     ]
    },
    {
     "name": "stdout",
     "output_type": "stream",
     "text": [
      "12 13 {'strat': {'scale': 1.0, 'decay': 400}, 'naf': {'nnqParameters': {'hidden_layers': [10, 10, 10], 'nonlinearity': <function tanh at 0x7eff3924d578>}, 'learningParameters': {'discount': 0.05, 'learning_rate': 0.001}, 'nnpParameters': {'hidden_layers': [5], 'nonlinearity': <function relu at 0x7eff39135848>}, 'nnvParameters': {'hidden_layers': [400], 'nonlinearity': <function relu at 0x7eff39135848>}}}\n",
      "{'naf': {'learningParameters': {'discount': 0.05, 'learning_rate': 0.001},\n",
      "         'nnpParameters': {'hidden_layers': [5],\n",
      "                           'nonlinearity': <function relu at 0x7eff39135848>},\n",
      "         'nnqParameters': {'hidden_layers': [10, 10, 10],\n",
      "                           'nonlinearity': <function tanh at 0x7eff3924d578>},\n",
      "         'nnvParameters': {'hidden_layers': [400],\n",
      "                           'nonlinearity': <function relu at 0x7eff39135848>}},\n",
      " 'strat': {'decay': 400, 'scale': 1.0}}\n",
      "[-1.] [ 1.]\n",
      "(11,)\n",
      "(11,)\n",
      "Epoch 0 Reward -99999999\n",
      "Epoch 100 Reward -99999999\n",
      "Epoch 200 Reward -99999999\n",
      "Epoch 300 Reward -99999999\n",
      "Epoch 400 Reward -99999999\n",
      "Epoch 500 Reward -99999999\n"
     ]
    },
    {
     "name": "stderr",
     "output_type": "stream",
     "text": [
      "[2017-02-28 19:49:16,637] Making new env: InvertedDoublePendulum-v1\n"
     ]
    },
    {
     "name": "stdout",
     "output_type": "stream",
     "text": [
      "0 -99999999\n",
      "[-1.] [ 1.]\n",
      "(11,)\n",
      "(11,)\n",
      "Epoch 0 Reward 36.0878681024\n",
      "Epoch 100 Reward 45.1029562933\n",
      "Epoch 200 Reward 54.877699145\n",
      "Epoch 300 Reward 63.5481176026\n",
      "Epoch 400 Reward 63.7432576809\n",
      "Epoch 500 Reward 36.1084767271\n"
     ]
    },
    {
     "name": "stderr",
     "output_type": "stream",
     "text": [
      "[2017-02-28 19:50:29,785] Making new env: InvertedDoublePendulum-v1\n"
     ]
    },
    {
     "name": "stdout",
     "output_type": "stream",
     "text": [
      "1 45.1554883153\n",
      "[-1.] [ 1.]\n",
      "(11,)\n",
      "(11,)\n",
      "Epoch 0 Reward 35.9402041488\n",
      "Epoch 100 Reward 35.9911404273\n",
      "Epoch 200 Reward 35.7821144761\n",
      "Epoch 300 Reward 63.9464000795\n",
      "Epoch 400 Reward 54.3902833229\n",
      "Epoch 500 Reward 63.7109298748\n"
     ]
    },
    {
     "name": "stderr",
     "output_type": "stream",
     "text": [
      "[2017-02-28 19:51:44,328] Making new env: InvertedDoublePendulum-v1\n"
     ]
    },
    {
     "name": "stdout",
     "output_type": "stream",
     "text": [
      "2 54.8603753596\n",
      "[-1.] [ 1.]\n",
      "(11,)\n",
      "(11,)\n",
      "Epoch 0 Reward 35.9975414855\n",
      "Epoch 100 Reward 26.776907908\n",
      "Epoch 200 Reward 45.207800008\n",
      "Epoch 300 Reward 54.4368842934\n",
      "Epoch 400 Reward 54.387844051\n",
      "Epoch 500 Reward 45.4623609528\n"
     ]
    },
    {
     "name": "stderr",
     "output_type": "stream",
     "text": [
      "[2017-02-28 19:52:51,037] Making new env: InvertedDoublePendulum-v1\n"
     ]
    },
    {
     "name": "stdout",
     "output_type": "stream",
     "text": [
      "3 45.3461366844\n",
      "[-1.] [ 1.]\n",
      "(11,)\n",
      "(11,)\n",
      "Epoch 0 Reward 44.975009418\n",
      "Epoch 100 Reward 54.0978401536\n",
      "Epoch 200 Reward 73.2330353136\n",
      "Epoch 300 Reward 73.37814011\n",
      "Epoch 400 Reward 63.5473182902\n",
      "Epoch 500 Reward 63.5991294184\n",
      "4 54.7246581655\n"
     ]
    },
    {
     "data": {
      "image/png": "[encoded data removed]",
      "text/plain": [
       "<matplotlib.figure.Figure at 0x7efee6eb7890>"
      ]
     },
     "metadata": {},
     "output_type": "display_data"
    }
   ],
   "source": [
    "import tensorflow as tf\n",
    "\n",
    "params1 = {'naf': {'learningParameters': {'discount': 0.75,\n",
    "                                           'learning_rate': 0.001},\n",
    "                    'nnpParameters': {'hidden_layers': [5],\n",
    "                                      'nonlinearity': tf.nn.relu},\n",
    "                    'nnqParameters': {'hidden_layers': [10, 10, 10],\n",
    "                                      'nonlinearity': tf.nn.tanh},\n",
    "                    'nnvParameters': {'hidden_layers': [400],\n",
    "                                      'nonlinearity': tf.nn.relu}},\n",
    "            'strat': {'decay': 1000, 'scale': 1.0}}\n",
    "\n",
    "params2 = {'naf': {'learningParameters': {'discount': 0.5,\n",
    "                                           'learning_rate': 0.001},\n",
    "                    'nnpParameters': {'hidden_layers': [5],\n",
    "                                      'nonlinearity': tf.nn.relu},\n",
    "                    'nnqParameters': {'hidden_layers': [10, 10, 10],\n",
    "                                      'nonlinearity': tf.nn.tanh},\n",
    "                    'nnvParameters': {'hidden_layers': [400],\n",
    "                                      'nonlinearity': tf.nn.relu}},\n",
    "            'strat': {'decay': 1000, 'scale': 1.0}}\n",
    "\n",
    "params3 = {'naf': {'learningParameters': {'discount': 0.75,\n",
    "                                           'learning_rate': 0.001},\n",
    "                    'nnpParameters': {'hidden_layers': [5],\n",
    "                                      'nonlinearity': tf.nn.relu},\n",
    "                    'nnqParameters': {'hidden_layers': [20, 20, 20],\n",
    "                                      'nonlinearity': tf.nn.tanh},\n",
    "                    'nnvParameters': {'hidden_layers': [400],\n",
    "                                      'nonlinearity': tf.nn.relu}},\n",
    "            'strat': {'decay': 1000, 'scale': 1.0}}\n",
    "\n",
    "params4 = {'naf': {'learningParameters': {'discount': 0.75,\n",
    "                                           'learning_rate': 0.001},\n",
    "                    'nnpParameters': {'hidden_layers': [5],\n",
    "                                      'nonlinearity': tf.nn.relu},\n",
    "                    'nnqParameters': {'hidden_layers': [10, 10, 10],\n",
    "                                      'nonlinearity': tf.nn.tanh},\n",
    "                    'nnvParameters': {'hidden_layers': [800],\n",
    "                                      'nonlinearity': tf.nn.relu}},\n",
    "            'strat': {'decay': 1000, 'scale': 1.0}}\n",
    "\n",
    "params5 = {'naf': {'learningParameters': {'discount': 0.75,\n",
    "                                           'learning_rate': 0.001},\n",
    "                    'nnpParameters': {'hidden_layers': [5],\n",
    "                                      'nonlinearity': tf.nn.relu},\n",
    "                    'nnqParameters': {'hidden_layers': [10, 10, 10],\n",
    "                                      'nonlinearity': tf.nn.tanh},\n",
    "                    'nnvParameters': {'hidden_layers': [800],\n",
    "                                      'nonlinearity': tf.nn.relu}},\n",
    "            'strat': {'decay': 400, 'scale': 1.0}}\n",
    "\n",
    "params6 = {'naf': {'learningParameters': {'discount': 0.05,\n",
    "                                           'learning_rate': 0.001},\n",
    "                    'nnpParameters': {'hidden_layers': [5],\n",
    "                                      'nonlinearity': tf.nn.relu},\n",
    "                    'nnqParameters': {'hidden_layers': [10, 10, 10],\n",
    "                                      'nonlinearity': tf.nn.tanh},\n",
    "                    'nnvParameters': {'hidden_layers': [400],\n",
    "                                      'nonlinearity': tf.nn.relu}},\n",
    "            'strat': {'decay': 400, 'scale': 1.0}}\n",
    "\n",
    "params7 = {'naf': {'learningParameters': {'discount': 0.94999999999999996,\n",
    "                                           'learning_rate': 0.0001},\n",
    "                    'nnpParameters': {'hidden_layers': [1],\n",
    "                                      'nonlinearity': tf.nn.relu},\n",
    "                    'nnqParameters': {'hidden_layers': [10],\n",
    "                                      'nonlinearity': tf.nn.tanh},\n",
    "                    'nnvParameters': {'hidden_layers': [200],\n",
    "                                      'nonlinearity': tf.nn.tanh}},\n",
    "            'strat': {'decay': 1000, 'scale': 1.0}}\n",
    "\n",
    "params8 = {'naf': {'learningParameters': {'discount': 0.94999999999999996,\n",
    "                                           'learning_rate': 0.00001},\n",
    "                    'nnpParameters': {'hidden_layers': [1],\n",
    "                                      'nonlinearity': tf.nn.relu},\n",
    "                    'nnqParameters': {'hidden_layers': [10],\n",
    "                                      'nonlinearity': tf.nn.tanh},\n",
    "                    'nnvParameters': {'hidden_layers': [200],\n",
    "                                      'nonlinearity': tf.nn.tanh}},\n",
    "            'strat': {'decay': 1000, 'scale': 1.0}}\n",
    "\n",
    "params9 = {'naf': {'learningParameters': {'discount': 0.94999999999999996,\n",
    "                                           'learning_rate': 0.0001},\n",
    "                    'nnpParameters': {'hidden_layers': [1],\n",
    "                                      'nonlinearity': tf.nn.relu},\n",
    "                    'nnqParameters': {'hidden_layers': [20],\n",
    "                                      'nonlinearity': tf.nn.tanh},\n",
    "                    'nnvParameters': {'hidden_layers': [400],\n",
    "                                      'nonlinearity': tf.nn.tanh}},\n",
    "            'strat': {'decay': 1000, 'scale': 1.0}}\n",
    "\n",
    "params10 = {'naf': {'learningParameters': {'discount': 0.94999999999999996,\n",
    "                                           'learning_rate': 0.0001},\n",
    "                    'nnpParameters': {'hidden_layers': [1, 1],\n",
    "                                      'nonlinearity': tf.nn.relu},\n",
    "                    'nnqParameters': {'hidden_layers': [10, 10],\n",
    "                                      'nonlinearity': tf.nn.tanh},\n",
    "                    'nnvParameters': {'hidden_layers': [200, 200],\n",
    "                                      'nonlinearity': tf.nn.tanh}},\n",
    "            'strat': {'decay': 1000, 'scale': 1.0}}\n",
    "\n",
    "params11 = {'naf': {'learningParameters': {'discount': 0.94999999999999996,\n",
    "                                           'learning_rate': 0.001},\n",
    "                    'nnpParameters': {'hidden_layers': [1, 1],\n",
    "                                      'nonlinearity': tf.nn.relu},\n",
    "                    'nnqParameters': {'hidden_layers': [10, 10],\n",
    "                                      'nonlinearity': tf.nn.tanh},\n",
    "                    'nnvParameters': {'hidden_layers': [200, 200],\n",
    "                                      'nonlinearity': tf.nn.tanh}},\n",
    "            'strat': {'decay': 1000, 'scale': 0.5}}\n",
    "\n",
    "params12 = {'naf': {'learningParameters': {'discount': 0.94999999999999996,\n",
    "                                           'learning_rate': 0.001},\n",
    "                    'nnpParameters': {'hidden_layers': [1, 1],\n",
    "                                      'nonlinearity': tf.nn.relu},\n",
    "                    'nnqParameters': {'hidden_layers': [10, 10],\n",
    "                                      'nonlinearity': tf.nn.tanh},\n",
    "                    'nnvParameters': {'hidden_layers': [200, 200],\n",
    "                                      'nonlinearity': tf.nn.tanh}},\n",
    "            'strat': {'decay': 1000, 'scale': 1.0}}\n",
    "\n",
    "params13 = {'naf': {'learningParameters': {'discount': 0.94999999999999996,\n",
    "                                           'learning_rate': 0.001},\n",
    "                    'nnpParameters': {'hidden_layers': [1, 1],\n",
    "                                      'nonlinearity': tf.nn.relu},\n",
    "                    'nnqParameters': {'hidden_layers': [10, 10],\n",
    "                                      'nonlinearity': tf.nn.tanh},\n",
    "                    'nnvParameters': {'hidden_layers': [200, 200],\n",
    "                                      'nonlinearity': tf.nn.tanh}},\n",
    "            'strat': {'decay': 200, 'scale': .5}}\n",
    "\n",
    "import gym\n",
    "import gym.wrappers\n",
    "import pprint\n",
    "from trainer import naftrainer\n",
    "\n",
    "%matplotlib inline\n",
    "\n",
    "nParameters = 10\n",
    "attempts = 5\n",
    "max_epochs = 600\n",
    "results = []\n",
    "parameters = [params13, params11, params12, params7, params8, params9, params10, params1, params2, params3, params4, params5, params6]\n",
    "for i, params in enumerate(parameters):\n",
    "    print i, len(parameters), params\n",
    "    pprint.pprint(params)\n",
    "    rewards = []\n",
    "    envs = []\n",
    "    for j in range(attempts):\n",
    "        env = gym.make('InvertedDoublePendulum-v1')\n",
    "        env = gym.wrappers.Monitor(env, '/tmp/inverted-pendulum-' + str(i) + '-' + str(j), force=True)\n",
    "        agent, reward = naftrainer.train(env, params, max_epochs=max_epochs)\n",
    "        print j, reward\n",
    "        #env.close()\n",
    "        rewards.append(reward)\n",
    "        envs.append(env)\n",
    "    results.append({'params': params, 'agent': agent, 'rewards': rewards, 'envs': envs})\n",
    "        \n",
    "    import matplotlib.pyplot as plt\n",
    "    r = results[-1]\n",
    "    plt.hist(r['rewards'])\n",
    "    plt.show()"
   ]
  },
  {
   "cell_type": "code",
   "execution_count": null,
   "metadata": {
    "collapsed": false,
    "deletable": true,
    "editable": true
   },
   "outputs": [],
   "source": [
    "gym.upload('/tmp/inverted-pendulum-1-0', api_key='sk_zPQUIRT3QNJwr2taOCDWA')"
   ]
  },
  {
   "cell_type": "code",
   "execution_count": 7,
   "metadata": {
    "collapsed": false,
    "deletable": true,
    "editable": true
   },
   "outputs": [
    {
     "data": {
      "text/plain": [
       "{'agent': <agents.agent.Agent at 0x7eff041f9110>,\n",
       " 'envs': [<gym.envs.mujoco.inverted_double_pendulum.InvertedDoublePendulumEnv at 0x7eff0e9d9cd0>,\n",
       "  <gym.envs.mujoco.inverted_double_pendulum.InvertedDoublePendulumEnv at 0x7eff0c0bed50>,\n",
       "  <gym.envs.mujoco.inverted_double_pendulum.InvertedDoublePendulumEnv at 0x7eff2d1dc950>,\n",
       "  <gym.envs.mujoco.inverted_double_pendulum.InvertedDoublePendulumEnv at 0x7eff056e0190>,\n",
       "  <gym.envs.mujoco.inverted_double_pendulum.InvertedDoublePendulumEnv at 0x7eff049d0d50>],\n",
       " 'params': {'naf': {'learningParameters': {'discount': 0.95,\n",
       "    'learning_rate': 0.001},\n",
       "   'nnpParameters': {'hidden_layers': [1, 1],\n",
       "    'nonlinearity': <function tensorflow.python.ops.gen_nn_ops.relu>},\n",
       "   'nnqParameters': {'hidden_layers': [10, 10],\n",
       "    'nonlinearity': <function tensorflow.python.ops.math_ops.tanh>},\n",
       "   'nnvParameters': {'hidden_layers': [200, 200],\n",
       "    'nonlinearity': <function tensorflow.python.ops.math_ops.tanh>}},\n",
       "  'strat': {'decay': 200, 'scale': 0.5}},\n",
       " 'rewards': [465.35224287885165,\n",
       "  73.162810489148953,\n",
       "  231.35620968057026,\n",
       "  286.77718709617631,\n",
       "  521.27496811464994]}"
      ]
     },
     "execution_count": 7,
     "metadata": {},
     "output_type": "execute_result"
    }
   ],
   "source": [
    "results[0]"
   ]
  },
  {
   "cell_type": "code",
   "execution_count": 3,
   "metadata": {
    "collapsed": false,
    "deletable": true,
    "editable": true
   },
   "outputs": [
    {
     "name": "stderr",
     "output_type": "stream",
     "text": [
      "[2017-02-28 21:07:56,948] Making new env: InvertedDoublePendulum-v1\n",
      "[2017-02-28 21:07:56,953] DEPRECATION WARNING: env.spec.timestep_limit has been deprecated. Replace your call to `env.spec.timestep_limit` with `env.spec.tags.get('wrapper_config.TimeLimit.max_episode_steps')`. This change was made 12/28/2016 and is included in version 0.7.0\n",
      "[2017-02-28 21:07:56,954] Clearing 22 monitor files from previous run (because force=True was provided)\n"
     ]
    },
    {
     "name": "stdout",
     "output_type": "stream",
     "text": [
      "[-1.] [ 1.]\n",
      "(11,)\n",
      "(11,)\n"
     ]
    },
    {
     "name": "stderr",
     "output_type": "stream",
     "text": [
      "[2017-02-28 21:07:58,211] Starting new video recorder writing to /tmp/inverted-pendulum-final/openaigym.video.1.10365.video000000.mp4\n",
      "[2017-02-28 21:07:58,560] Starting new video recorder writing to /tmp/inverted-pendulum-final/openaigym.video.1.10365.video000001.mp4\n"
     ]
    },
    {
     "name": "stdout",
     "output_type": "stream",
     "text": [
      "Epoch 0 Reward 100.904856059\n"
     ]
    },
    {
     "name": "stderr",
     "output_type": "stream",
     "text": [
      "[2017-02-28 21:07:59,418] Starting new video recorder writing to /tmp/inverted-pendulum-final/openaigym.video.1.10365.video000008.mp4\n"
     ]
    },
    {
     "name": "stdout",
     "output_type": "stream",
     "text": [
      "Epoch 10 Reward 120.092585444\n",
      "Epoch 20 Reward 119.819940433\n"
     ]
    },
    {
     "name": "stderr",
     "output_type": "stream",
     "text": [
      "[2017-02-28 21:08:02,917] Starting new video recorder writing to /tmp/inverted-pendulum-final/openaigym.video.1.10365.video000027.mp4\n"
     ]
    },
    {
     "name": "stdout",
     "output_type": "stream",
     "text": [
      "Epoch 30 Reward 129.249474476\n",
      "Epoch 40 Reward 372.335908622\n",
      "Epoch 50 Reward 157.055840237\n",
      "Epoch 60 Reward 101.25057409\n"
     ]
    },
    {
     "name": "stderr",
     "output_type": "stream",
     "text": [
      "[2017-02-28 21:08:12,337] Starting new video recorder writing to /tmp/inverted-pendulum-final/openaigym.video.1.10365.video000064.mp4\n"
     ]
    },
    {
     "name": "stdout",
     "output_type": "stream",
     "text": [
      "Epoch 70 Reward 202.690505873\n",
      "Epoch 80 Reward 194.353260997\n",
      "Epoch 90 Reward 248.422232334\n",
      "Epoch 100 Reward 128.888340303\n",
      "Epoch 110 Reward 250.513948191\n",
      "Epoch 120 Reward 101.496843755\n"
     ]
    },
    {
     "name": "stderr",
     "output_type": "stream",
     "text": [
      "[2017-02-28 21:08:31,665] Starting new video recorder writing to /tmp/inverted-pendulum-final/openaigym.video.1.10365.video000125.mp4\n"
     ]
    },
    {
     "name": "stdout",
     "output_type": "stream",
     "text": [
      "Epoch 130 Reward 213.209010052\n",
      "Epoch 140 Reward 287.55533105\n",
      "Epoch 150 Reward 212.542679104\n",
      "Epoch 160 Reward 146.880940259\n",
      "Epoch 170 Reward 304.777692411\n",
      "Epoch 180 Reward 343.19848848\n",
      "Epoch 190 Reward 248.806106442\n",
      "Epoch 200 Reward 323.549210201\n",
      "Epoch 210 Reward 92.0225980303\n"
     ]
    },
    {
     "name": "stderr",
     "output_type": "stream",
     "text": [
      "[2017-02-28 21:09:09,327] Starting new video recorder writing to /tmp/inverted-pendulum-final/openaigym.video.1.10365.video000216.mp4\n"
     ]
    },
    {
     "name": "stdout",
     "output_type": "stream",
     "text": [
      "Epoch 220 Reward 230.924148055\n",
      "Epoch 230 Reward 295.74298278\n",
      "Epoch 240 Reward 286.882384509\n",
      "Epoch 250 Reward 258.96165354\n",
      "Epoch 260 Reward 408.229696535\n",
      "Epoch 270 Reward 240.77718104\n",
      "Epoch 280 Reward 362.311977366\n",
      "Epoch 290 Reward 193.466400116\n",
      "Epoch 300 Reward 333.476801835\n",
      "Epoch 310 Reward 266.986571463\n",
      "Epoch 320 Reward 315.178909258\n",
      "Epoch 330 Reward 286.434617476\n",
      "Epoch 340 Reward 192.468730059\n"
     ]
    },
    {
     "name": "stderr",
     "output_type": "stream",
     "text": [
      "[2017-02-28 21:10:12,492] Starting new video recorder writing to /tmp/inverted-pendulum-final/openaigym.video.1.10365.video000343.mp4\n"
     ]
    },
    {
     "name": "stdout",
     "output_type": "stream",
     "text": [
      "Epoch 350 Reward 315.530081008\n",
      "Epoch 360 Reward 212.002933577\n",
      "Epoch 370 Reward 379.247564792\n",
      "Epoch 380 Reward 194.086134965\n",
      "Epoch 390 Reward 342.703253877\n",
      "Epoch 400 Reward 315.042511179\n",
      "Epoch 410 Reward 119.9205897\n",
      "Epoch 420 Reward 362.357708532\n",
      "Epoch 430 Reward 258.46213828\n",
      "Epoch 440 Reward 296.481157112\n",
      "Epoch 450 Reward 370.763490989\n",
      "Epoch 460 Reward 390.166767\n",
      "Epoch 470 Reward 155.804227639\n",
      "Epoch 480 Reward 397.839468472\n",
      "Epoch 490 Reward 455.020234457\n",
      "Epoch 500 Reward 267.10413554\n",
      "Epoch 510 Reward 268.659363014\n"
     ]
    },
    {
     "name": "stderr",
     "output_type": "stream",
     "text": [
      "[2017-02-28 21:11:49,167] Starting new video recorder writing to /tmp/inverted-pendulum-final/openaigym.video.1.10365.video000512.mp4\n"
     ]
    },
    {
     "name": "stdout",
     "output_type": "stream",
     "text": [
      "Epoch 520 Reward 555.161950543\n",
      "Epoch 530 Reward 697.256451434\n",
      "Epoch 540 Reward 370.712632031\n",
      "Epoch 550 Reward 342.84919552\n",
      "Epoch 560 Reward 389.464977341\n",
      "Epoch 570 Reward 510.476297884\n",
      "Epoch 580 Reward 286.713817223\n",
      "Epoch 590 Reward 706.685660139\n",
      "Epoch 600 Reward 482.881798604\n",
      "Epoch 610 Reward 427.5327442\n",
      "Epoch 620 Reward 555.548194065\n",
      "Epoch 630 Reward 530.174038207\n",
      "Epoch 640 Reward 556.913986617\n",
      "Epoch 650 Reward 334.178139953\n",
      "Epoch 660 Reward 436.981177171\n",
      "Epoch 670 Reward 502.832643731\n",
      "Epoch 680 Reward 539.103004511\n",
      "Epoch 690 Reward 725.82303453\n",
      "Epoch 700 Reward 258.513654173\n",
      "Epoch 710 Reward 483.159850443\n",
      "Epoch 720 Reward 977.714919858\n"
     ]
    },
    {
     "name": "stderr",
     "output_type": "stream",
     "text": [
      "[2017-02-28 21:15:30,620] Starting new video recorder writing to /tmp/inverted-pendulum-final/openaigym.video.1.10365.video000729.mp4\n"
     ]
    },
    {
     "name": "stdout",
     "output_type": "stream",
     "text": [
      "Epoch 730 Reward 614.137594765\n",
      "Epoch 740 Reward 621.89727009\n",
      "Epoch 750 Reward 426.931243666\n",
      "Epoch 760 Reward 380.745908349\n",
      "Epoch 770 Reward 1201.25850877\n",
      "Epoch 780 Reward 689.055879073\n",
      "Epoch 790 Reward 985.616538053\n",
      "Epoch 800 Reward 82.550977653\n",
      "Epoch 810 Reward 1004.91663845\n",
      "Epoch 820 Reward 586.02770224\n",
      "Epoch 830 Reward 1720.78545232\n",
      "Epoch 840 Reward 1228.58888301\n",
      "Epoch 850 Reward 1313.36868551\n",
      "Epoch 860 Reward 4210.09420557\n",
      "Epoch 870 Reward 1581.19469823\n",
      "Epoch 880 Reward 5752.07732286\n",
      "Epoch 890 Reward 930.437946731\n",
      "Epoch 900 Reward 1555.0489506\n",
      "Epoch 910 Reward 73.3088650051\n",
      "Epoch 920 Reward 3017.62972443\n",
      "Epoch 930 Reward 594.136375518\n",
      "Epoch 940 Reward 362.192848016\n",
      "Epoch 950 Reward 1153.5027441\n",
      "Epoch 960 Reward 659.312402087\n",
      "Epoch 970 Reward 5732.80608017\n",
      "Epoch 980 Reward 3904.52892907\n",
      "Epoch 990 Reward 380.237199258\n"
     ]
    },
    {
     "name": "stderr",
     "output_type": "stream",
     "text": [
      "[2017-02-28 21:34:49,664] Finished writing results. You can upload them to the scoreboard via gym.upload('/tmp/inverted-pendulum-final')\n"
     ]
    }
   ],
   "source": [
    "import tensorflow as tf\n",
    "\n",
    "params = {'naf': {'learningParameters': {'discount': 0.94999999999999996,\n",
    "                                           'learning_rate': 0.001},\n",
    "                    'nnpParameters': {'hidden_layers': [1, 1],\n",
    "                                      'nonlinearity': tf.nn.relu},\n",
    "                    'nnqParameters': {'hidden_layers': [40, 40],\n",
    "                                      'nonlinearity': tf.nn.tanh},\n",
    "                    'nnvParameters': {'hidden_layers': [800, 800],\n",
    "                                      'nonlinearity': tf.nn.tanh}},\n",
    "            'strat': {'decay': 10000, 'scale': .25}}\n",
    "\n",
    "params['strat']['max_steps'] = 2000\n",
    "params['strat']['target'] = 2000\n",
    "\n",
    "import gym\n",
    "import gym.wrappers\n",
    "import pprint\n",
    "from trainer import naftrainer\n",
    "\n",
    "env = gym.make('InvertedDoublePendulum-v1')\n",
    "env = gym.wrappers.Monitor(env, '/tmp/inverted-pendulum-final', force=True)\n",
    "agent, reward = naftrainer.train(env, params, max_epochs=1000, writeevery=10)\n",
    "env.close()"
   ]
  },
  {
   "cell_type": "code",
   "execution_count": 2,
   "metadata": {
    "collapsed": false,
    "deletable": true,
    "editable": true
   },
   "outputs": [
    {
     "name": "stderr",
     "output_type": "stream",
     "text": [
      "[2017-03-01 20:56:34,956] Making new env: InvertedDoublePendulum-v1\n"
     ]
    },
    {
     "name": "stdout",
     "output_type": "stream",
     "text": [
      "[-1.] [ 1.]\n",
      "(11,)\n",
      "(11,)\n",
      "Epoch 0 Reward 36.0600721799\n",
      "Epoch 10 Reward 36.2583421889\n",
      "Epoch 20 Reward 54.2673762285\n",
      "Epoch 30 Reward 44.9872944898\n",
      "Epoch 40 Reward 45.631675834\n",
      "Epoch 50 Reward 44.7808645066\n",
      "Epoch 60 Reward 36.078333375\n",
      "Epoch 70 Reward 35.900071846\n",
      "Epoch 80 Reward 36.1608374477\n",
      "Epoch 90 Reward 45.4127056856\n",
      "Epoch 100 Reward 44.8717314331\n",
      "Epoch 110 Reward 82.0013521631\n",
      "Epoch 120 Reward 64.339449931\n",
      "Epoch 130 Reward 72.9234544242\n",
      "Epoch 140 Reward 64.0503412898\n",
      "Epoch 150 Reward 92.2023833743\n",
      "Epoch 160 Reward 82.8136877272\n",
      "Epoch 170 Reward 100.628367916\n",
      "Epoch 180 Reward 138.720649827\n",
      "Epoch 190 Reward 92.3479229988\n",
      "Epoch 200 Reward 101.248311907\n",
      "Epoch 210 Reward 119.766666834\n",
      "Epoch 220 Reward 91.5006836982\n",
      "Epoch 230 Reward 73.4723110505\n",
      "Epoch 240 Reward 138.711337629\n",
      "Epoch 250 Reward 73.5334087427\n",
      "Epoch 260 Reward 194.572064977\n",
      "Epoch 270 Reward 212.665626119\n",
      "Epoch 280 Reward 174.994572955\n",
      "Epoch 290 Reward 259.848260854\n",
      "Epoch 300 Reward 119.636502177\n",
      "Epoch 310 Reward 166.712137353\n",
      "Epoch 320 Reward 148.184568588\n",
      "Epoch 330 Reward 137.969443323\n",
      "Epoch 340 Reward 82.7301499053\n",
      "Epoch 350 Reward 269.284982686\n",
      "Epoch 360 Reward 101.282319327\n",
      "Epoch 370 Reward 212.37433493\n",
      "Epoch 380 Reward 241.413368642\n",
      "Epoch 390 Reward 156.810200327\n",
      "Epoch 400 Reward 203.951554157\n",
      "Epoch 410 Reward 110.585603551\n",
      "Epoch 420 Reward 120.094332582\n",
      "Epoch 430 Reward 101.06331499\n",
      "Epoch 440 Reward 129.134896202\n",
      "Epoch 450 Reward 296.877762138\n",
      "Epoch 460 Reward 222.086049034\n",
      "Epoch 470 Reward 165.937503731\n",
      "Epoch 480 Reward 157.029082528\n",
      "Epoch 490 Reward 147.344104937\n",
      "Epoch 500 Reward 110.931269389\n",
      "Epoch 510 Reward 231.475404893\n",
      "Epoch 520 Reward 166.36661237\n",
      "Epoch 530 Reward 194.02831001\n",
      "Epoch 540 Reward 147.494976439\n",
      "Epoch 550 Reward 305.654793403\n",
      "Epoch 560 Reward 156.074896171\n",
      "Epoch 570 Reward 175.32186695\n",
      "Epoch 580 Reward 147.403375309\n",
      "Epoch 590 Reward 277.814964089\n",
      "Epoch 600 Reward 333.881799605\n",
      "Epoch 610 Reward 129.020840467\n",
      "Epoch 620 Reward 259.181939851\n",
      "Epoch 630 Reward 147.845552859\n"
     ]
    },
    {
     "ename": "KeyboardInterrupt",
     "evalue": "",
     "output_type": "error",
     "traceback": [
      "\u001b[0;31m---------------------------------------------------------------------------\u001b[0m",
      "\u001b[0;31mKeyboardInterrupt\u001b[0m                         Traceback (most recent call last)",
      "\u001b[0;32m<ipython-input-2-6e2724ebb6f0>\u001b[0m in \u001b[0;36m<module>\u001b[0;34m()\u001b[0m\n\u001b[1;32m     21\u001b[0m \u001b[0menv\u001b[0m \u001b[0;34m=\u001b[0m \u001b[0mgym\u001b[0m\u001b[0;34m.\u001b[0m\u001b[0mmake\u001b[0m\u001b[0;34m(\u001b[0m\u001b[0;34m'InvertedDoublePendulum-v1'\u001b[0m\u001b[0;34m)\u001b[0m\u001b[0;34m\u001b[0m\u001b[0m\n\u001b[1;32m     22\u001b[0m \u001b[0;31m#env = gym.wrappers.Monitor(env, '/tmp/inverted-pendulum-biggerp', force=True)\u001b[0m\u001b[0;34m\u001b[0m\u001b[0;34m\u001b[0m\u001b[0m\n\u001b[0;32m---> 23\u001b[0;31m \u001b[0magent\u001b[0m\u001b[0;34m,\u001b[0m \u001b[0mreward\u001b[0m \u001b[0;34m=\u001b[0m \u001b[0mnaftrainer\u001b[0m\u001b[0;34m.\u001b[0m\u001b[0mtrain\u001b[0m\u001b[0;34m(\u001b[0m\u001b[0menv\u001b[0m\u001b[0;34m,\u001b[0m \u001b[0mparams\u001b[0m\u001b[0;34m,\u001b[0m \u001b[0mmax_epochs\u001b[0m\u001b[0;34m=\u001b[0m\u001b[0;36m1000\u001b[0m\u001b[0;34m,\u001b[0m \u001b[0mwriteevery\u001b[0m\u001b[0;34m=\u001b[0m\u001b[0;36m10\u001b[0m\u001b[0;34m)\u001b[0m\u001b[0;34m\u001b[0m\u001b[0m\n\u001b[0m\u001b[1;32m     24\u001b[0m \u001b[0;31m#env.close()\u001b[0m\u001b[0;34m\u001b[0m\u001b[0;34m\u001b[0m\u001b[0m\n",
      "\u001b[0;32m/home/ygreif/qlearning/trainer/naftrainer.pyc\u001b[0m in \u001b[0;36mtrain\u001b[0;34m(env, parameters, max_epochs, writeevery)\u001b[0m\n\u001b[1;32m     39\u001b[0m     \u001b[0;32mfor\u001b[0m \u001b[0mepoch\u001b[0m \u001b[0;32min\u001b[0m \u001b[0mrange\u001b[0m\u001b[0;34m(\u001b[0m\u001b[0mmax_epochs\u001b[0m\u001b[0;34m)\u001b[0m\u001b[0;34m:\u001b[0m\u001b[0;34m\u001b[0m\u001b[0m\n\u001b[1;32m     40\u001b[0m         \u001b[0mstrat\u001b[0m \u001b[0;34m=\u001b[0m \u001b[0magents\u001b[0m\u001b[0;34m.\u001b[0m\u001b[0magent\u001b[0m\u001b[0;34m.\u001b[0m\u001b[0mDeltaStrategy\u001b[0m\u001b[0;34m(\u001b[0m\u001b[0mepoch\u001b[0m\u001b[0;34m=\u001b[0m\u001b[0mepoch\u001b[0m\u001b[0;34m,\u001b[0m \u001b[0;34m**\u001b[0m\u001b[0mparameters\u001b[0m\u001b[0;34m[\u001b[0m\u001b[0;34m'strat'\u001b[0m\u001b[0;34m]\u001b[0m\u001b[0;34m)\u001b[0m\u001b[0;34m\u001b[0m\u001b[0m\n\u001b[0;32m---> 41\u001b[0;31m         \u001b[0mr\u001b[0m \u001b[0;34m=\u001b[0m \u001b[0ma\u001b[0m\u001b[0;34m.\u001b[0m\u001b[0mtrain_epoch\u001b[0m\u001b[0;34m(\u001b[0m\u001b[0menv\u001b[0m\u001b[0;34m,\u001b[0m \u001b[0mstrat\u001b[0m\u001b[0;34m)\u001b[0m\u001b[0;34m\u001b[0m\u001b[0m\n\u001b[0m\u001b[1;32m     42\u001b[0m         \u001b[0;32mif\u001b[0m \u001b[0mepoch\u001b[0m \u001b[0;34m%\u001b[0m \u001b[0mwriteevery\u001b[0m \u001b[0;34m==\u001b[0m \u001b[0;36m0\u001b[0m\u001b[0;34m:\u001b[0m\u001b[0;34m\u001b[0m\u001b[0m\n\u001b[1;32m     43\u001b[0m             \u001b[0;32mprint\u001b[0m \u001b[0;34m\"Epoch\"\u001b[0m\u001b[0;34m,\u001b[0m \u001b[0mepoch\u001b[0m\u001b[0;34m,\u001b[0m \u001b[0;34m\"Reward\"\u001b[0m\u001b[0;34m,\u001b[0m \u001b[0mr\u001b[0m\u001b[0;34m\u001b[0m\u001b[0m\n",
      "\u001b[0;32m/home/ygreif/qlearning/agents/agent.pyc\u001b[0m in \u001b[0;36mtrain_epoch\u001b[0;34m(self, env, strat)\u001b[0m\n\u001b[1;32m     38\u001b[0m             \u001b[0mnext_state\u001b[0m\u001b[0;34m,\u001b[0m \u001b[0mreward\u001b[0m\u001b[0;34m,\u001b[0m \u001b[0mdone\u001b[0m\u001b[0;34m,\u001b[0m \u001b[0m_\u001b[0m \u001b[0;34m=\u001b[0m \u001b[0menv\u001b[0m\u001b[0;34m.\u001b[0m\u001b[0mstep\u001b[0m\u001b[0;34m(\u001b[0m\u001b[0maction\u001b[0m\u001b[0;34m)\u001b[0m\u001b[0;34m\u001b[0m\u001b[0m\n\u001b[1;32m     39\u001b[0m             \u001b[0mself\u001b[0m\u001b[0;34m.\u001b[0m\u001b[0mmemory\u001b[0m\u001b[0;34m.\u001b[0m\u001b[0mappend\u001b[0m\u001b[0;34m(\u001b[0m\u001b[0mstate\u001b[0m\u001b[0;34m,\u001b[0m \u001b[0maction\u001b[0m\u001b[0;34m,\u001b[0m \u001b[0mreward\u001b[0m\u001b[0;34m,\u001b[0m \u001b[0mnext_state\u001b[0m\u001b[0;34m,\u001b[0m \u001b[0mdone\u001b[0m\u001b[0;34m)\u001b[0m\u001b[0;34m\u001b[0m\u001b[0m\n\u001b[0;32m---> 40\u001b[0;31m             \u001b[0mself\u001b[0m\u001b[0;34m.\u001b[0m\u001b[0mlearn\u001b[0m\u001b[0;34m(\u001b[0m\u001b[0;34m)\u001b[0m\u001b[0;34m\u001b[0m\u001b[0m\n\u001b[0m\u001b[1;32m     41\u001b[0m             \u001b[0mcum_reward\u001b[0m \u001b[0;34m+=\u001b[0m \u001b[0mreward\u001b[0m\u001b[0;34m\u001b[0m\u001b[0m\n\u001b[1;32m     42\u001b[0m             \u001b[0mstate\u001b[0m \u001b[0;34m=\u001b[0m \u001b[0mnext_state\u001b[0m\u001b[0;34m\u001b[0m\u001b[0m\n",
      "\u001b[0;32m/home/ygreif/qlearning/agents/agent.pyc\u001b[0m in \u001b[0;36mlearn\u001b[0;34m(self)\u001b[0m\n\u001b[1;32m     50\u001b[0m         state, actions, rewards, next_state, terminals = self.memory.minibatch(\n\u001b[1;32m     51\u001b[0m             self.minibatch_size)\n\u001b[0;32m---> 52\u001b[0;31m         \u001b[0mself\u001b[0m\u001b[0;34m.\u001b[0m\u001b[0mq\u001b[0m\u001b[0;34m.\u001b[0m\u001b[0mtrainstep\u001b[0m\u001b[0;34m(\u001b[0m\u001b[0mstate\u001b[0m\u001b[0;34m,\u001b[0m \u001b[0mactions\u001b[0m\u001b[0;34m,\u001b[0m \u001b[0mrewards\u001b[0m\u001b[0;34m,\u001b[0m \u001b[0mnext_state\u001b[0m\u001b[0;34m,\u001b[0m \u001b[0mterminals\u001b[0m\u001b[0;34m)\u001b[0m\u001b[0;34m\u001b[0m\u001b[0m\n\u001b[0m",
      "\u001b[0;32m/home/ygreif/qlearning/agents/naf.pyc\u001b[0m in \u001b[0;36mtrainstep\u001b[0;34m(self, state, action, rewards, next_state, terminals)\u001b[0m\n\u001b[1;32m    145\u001b[0m     \u001b[0;32mdef\u001b[0m \u001b[0mtrainstep\u001b[0m\u001b[0;34m(\u001b[0m\u001b[0mself\u001b[0m\u001b[0;34m,\u001b[0m \u001b[0mstate\u001b[0m\u001b[0;34m,\u001b[0m \u001b[0maction\u001b[0m\u001b[0;34m,\u001b[0m \u001b[0mrewards\u001b[0m\u001b[0;34m,\u001b[0m \u001b[0mnext_state\u001b[0m\u001b[0;34m,\u001b[0m \u001b[0mterminals\u001b[0m\u001b[0;34m)\u001b[0m\u001b[0;34m:\u001b[0m\u001b[0;34m\u001b[0m\u001b[0m\n\u001b[1;32m    146\u001b[0m         \u001b[0mtarget\u001b[0m \u001b[0;34m=\u001b[0m \u001b[0mself\u001b[0m\u001b[0;34m.\u001b[0m\u001b[0mcalcq\u001b[0m\u001b[0;34m(\u001b[0m\u001b[0mrewards\u001b[0m\u001b[0;34m,\u001b[0m \u001b[0mnext_state\u001b[0m\u001b[0;34m,\u001b[0m \u001b[0mterminals\u001b[0m\u001b[0;34m)\u001b[0m\u001b[0;34m\u001b[0m\u001b[0m\n\u001b[0;32m--> 147\u001b[0;31m         \u001b[0;32mreturn\u001b[0m \u001b[0mself\u001b[0m\u001b[0;34m.\u001b[0m\u001b[0msession\u001b[0m\u001b[0;34m.\u001b[0m\u001b[0mrun\u001b[0m\u001b[0;34m(\u001b[0m\u001b[0mself\u001b[0m\u001b[0;34m.\u001b[0m\u001b[0mtrain_step\u001b[0m\u001b[0;34m,\u001b[0m \u001b[0mfeed_dict\u001b[0m\u001b[0;34m=\u001b[0m\u001b[0;34m{\u001b[0m\u001b[0mself\u001b[0m\u001b[0;34m.\u001b[0m\u001b[0mtarget\u001b[0m\u001b[0;34m:\u001b[0m \u001b[0mtarget\u001b[0m\u001b[0;34m,\u001b[0m \u001b[0mself\u001b[0m\u001b[0;34m.\u001b[0m\u001b[0mvx\u001b[0m\u001b[0;34m:\u001b[0m \u001b[0mstate\u001b[0m\u001b[0;34m,\u001b[0m \u001b[0mself\u001b[0m\u001b[0;34m.\u001b[0m\u001b[0mpx\u001b[0m\u001b[0;34m:\u001b[0m \u001b[0mstate\u001b[0m\u001b[0;34m,\u001b[0m \u001b[0mself\u001b[0m\u001b[0;34m.\u001b[0m\u001b[0mqx\u001b[0m\u001b[0;34m:\u001b[0m \u001b[0mstate\u001b[0m\u001b[0;34m,\u001b[0m \u001b[0mself\u001b[0m\u001b[0;34m.\u001b[0m\u001b[0maction_inp\u001b[0m\u001b[0;34m:\u001b[0m \u001b[0maction\u001b[0m\u001b[0;34m}\u001b[0m\u001b[0;34m)\u001b[0m\u001b[0;34m\u001b[0m\u001b[0m\n\u001b[0m\u001b[1;32m    148\u001b[0m \u001b[0;34m\u001b[0m\u001b[0m\n\u001b[1;32m    149\u001b[0m     \u001b[0;32mdef\u001b[0m \u001b[0m__exit__\u001b[0m\u001b[0;34m(\u001b[0m\u001b[0mself\u001b[0m\u001b[0;34m)\u001b[0m\u001b[0;34m:\u001b[0m\u001b[0;34m\u001b[0m\u001b[0m\n",
      "\u001b[0;32m/home/ygreif/qlearning/env/local/lib/python2.7/site-packages/tensorflow/python/client/session.pyc\u001b[0m in \u001b[0;36mrun\u001b[0;34m(self, fetches, feed_dict, options, run_metadata)\u001b[0m\n\u001b[1;32m    764\u001b[0m     \u001b[0;32mtry\u001b[0m\u001b[0;34m:\u001b[0m\u001b[0;34m\u001b[0m\u001b[0m\n\u001b[1;32m    765\u001b[0m       result = self._run(None, fetches, feed_dict, options_ptr,\n\u001b[0;32m--> 766\u001b[0;31m                          run_metadata_ptr)\n\u001b[0m\u001b[1;32m    767\u001b[0m       \u001b[0;32mif\u001b[0m \u001b[0mrun_metadata\u001b[0m\u001b[0;34m:\u001b[0m\u001b[0;34m\u001b[0m\u001b[0m\n\u001b[1;32m    768\u001b[0m         \u001b[0mproto_data\u001b[0m \u001b[0;34m=\u001b[0m \u001b[0mtf_session\u001b[0m\u001b[0;34m.\u001b[0m\u001b[0mTF_GetBuffer\u001b[0m\u001b[0;34m(\u001b[0m\u001b[0mrun_metadata_ptr\u001b[0m\u001b[0;34m)\u001b[0m\u001b[0;34m\u001b[0m\u001b[0m\n",
      "\u001b[0;32m/home/ygreif/qlearning/env/local/lib/python2.7/site-packages/tensorflow/python/client/session.pyc\u001b[0m in \u001b[0;36m_run\u001b[0;34m(self, handle, fetches, feed_dict, options, run_metadata)\u001b[0m\n\u001b[1;32m    962\u001b[0m     \u001b[0;32mif\u001b[0m \u001b[0mfinal_fetches\u001b[0m \u001b[0;32mor\u001b[0m \u001b[0mfinal_targets\u001b[0m\u001b[0;34m:\u001b[0m\u001b[0;34m\u001b[0m\u001b[0m\n\u001b[1;32m    963\u001b[0m       results = self._do_run(handle, final_targets, final_fetches,\n\u001b[0;32m--> 964\u001b[0;31m                              feed_dict_string, options, run_metadata)\n\u001b[0m\u001b[1;32m    965\u001b[0m     \u001b[0;32melse\u001b[0m\u001b[0;34m:\u001b[0m\u001b[0;34m\u001b[0m\u001b[0m\n\u001b[1;32m    966\u001b[0m       \u001b[0mresults\u001b[0m \u001b[0;34m=\u001b[0m \u001b[0;34m[\u001b[0m\u001b[0;34m]\u001b[0m\u001b[0;34m\u001b[0m\u001b[0m\n",
      "\u001b[0;32m/home/ygreif/qlearning/env/local/lib/python2.7/site-packages/tensorflow/python/client/session.pyc\u001b[0m in \u001b[0;36m_do_run\u001b[0;34m(self, handle, target_list, fetch_list, feed_dict, options, run_metadata)\u001b[0m\n\u001b[1;32m   1012\u001b[0m     \u001b[0;32mif\u001b[0m \u001b[0mhandle\u001b[0m \u001b[0;32mis\u001b[0m \u001b[0mNone\u001b[0m\u001b[0;34m:\u001b[0m\u001b[0;34m\u001b[0m\u001b[0m\n\u001b[1;32m   1013\u001b[0m       return self._do_call(_run_fn, self._session, feed_dict, fetch_list,\n\u001b[0;32m-> 1014\u001b[0;31m                            target_list, options, run_metadata)\n\u001b[0m\u001b[1;32m   1015\u001b[0m     \u001b[0;32melse\u001b[0m\u001b[0;34m:\u001b[0m\u001b[0;34m\u001b[0m\u001b[0m\n\u001b[1;32m   1016\u001b[0m       return self._do_call(_prun_fn, self._session, handle, feed_dict,\n",
      "\u001b[0;32m/home/ygreif/qlearning/env/local/lib/python2.7/site-packages/tensorflow/python/client/session.pyc\u001b[0m in \u001b[0;36m_do_call\u001b[0;34m(self, fn, *args)\u001b[0m\n\u001b[1;32m   1019\u001b[0m   \u001b[0;32mdef\u001b[0m \u001b[0m_do_call\u001b[0m\u001b[0;34m(\u001b[0m\u001b[0mself\u001b[0m\u001b[0;34m,\u001b[0m \u001b[0mfn\u001b[0m\u001b[0;34m,\u001b[0m \u001b[0;34m*\u001b[0m\u001b[0margs\u001b[0m\u001b[0;34m)\u001b[0m\u001b[0;34m:\u001b[0m\u001b[0;34m\u001b[0m\u001b[0m\n\u001b[1;32m   1020\u001b[0m     \u001b[0;32mtry\u001b[0m\u001b[0;34m:\u001b[0m\u001b[0;34m\u001b[0m\u001b[0m\n\u001b[0;32m-> 1021\u001b[0;31m       \u001b[0;32mreturn\u001b[0m \u001b[0mfn\u001b[0m\u001b[0;34m(\u001b[0m\u001b[0;34m*\u001b[0m\u001b[0margs\u001b[0m\u001b[0;34m)\u001b[0m\u001b[0;34m\u001b[0m\u001b[0m\n\u001b[0m\u001b[1;32m   1022\u001b[0m     \u001b[0;32mexcept\u001b[0m \u001b[0merrors\u001b[0m\u001b[0;34m.\u001b[0m\u001b[0mOpError\u001b[0m \u001b[0;32mas\u001b[0m \u001b[0me\u001b[0m\u001b[0;34m:\u001b[0m\u001b[0;34m\u001b[0m\u001b[0m\n\u001b[1;32m   1023\u001b[0m       \u001b[0mmessage\u001b[0m \u001b[0;34m=\u001b[0m \u001b[0mcompat\u001b[0m\u001b[0;34m.\u001b[0m\u001b[0mas_text\u001b[0m\u001b[0;34m(\u001b[0m\u001b[0me\u001b[0m\u001b[0;34m.\u001b[0m\u001b[0mmessage\u001b[0m\u001b[0;34m)\u001b[0m\u001b[0;34m\u001b[0m\u001b[0m\n",
      "\u001b[0;32m/home/ygreif/qlearning/env/local/lib/python2.7/site-packages/tensorflow/python/client/session.pyc\u001b[0m in \u001b[0;36m_run_fn\u001b[0;34m(session, feed_dict, fetch_list, target_list, options, run_metadata)\u001b[0m\n\u001b[1;32m   1001\u001b[0m         return tf_session.TF_Run(session, options,\n\u001b[1;32m   1002\u001b[0m                                  \u001b[0mfeed_dict\u001b[0m\u001b[0;34m,\u001b[0m \u001b[0mfetch_list\u001b[0m\u001b[0;34m,\u001b[0m \u001b[0mtarget_list\u001b[0m\u001b[0;34m,\u001b[0m\u001b[0;34m\u001b[0m\u001b[0m\n\u001b[0;32m-> 1003\u001b[0;31m                                  status, run_metadata)\n\u001b[0m\u001b[1;32m   1004\u001b[0m \u001b[0;34m\u001b[0m\u001b[0m\n\u001b[1;32m   1005\u001b[0m     \u001b[0;32mdef\u001b[0m \u001b[0m_prun_fn\u001b[0m\u001b[0;34m(\u001b[0m\u001b[0msession\u001b[0m\u001b[0;34m,\u001b[0m \u001b[0mhandle\u001b[0m\u001b[0;34m,\u001b[0m \u001b[0mfeed_dict\u001b[0m\u001b[0;34m,\u001b[0m \u001b[0mfetch_list\u001b[0m\u001b[0;34m)\u001b[0m\u001b[0;34m:\u001b[0m\u001b[0;34m\u001b[0m\u001b[0m\n",
      "\u001b[0;31mKeyboardInterrupt\u001b[0m: "
     ]
    }
   ],
   "source": [
    "import tensorflow as tf\n",
    "\n",
    "params = {'naf': {'learningParameters': {'discount': 0.99,\n",
    "                                           'learning_rate': 0.005},\n",
    "                    'nnpParameters': {'hidden_layers': [1],\n",
    "                                      'nonlinearity': tf.nn.tanh},\n",
    "                    'nnqParameters': {'hidden_layers': [100, 50],\n",
    "                                      'nonlinearity': tf.nn.tanh},\n",
    "                    'nnvParameters': {'hidden_layers': [10],\n",
    "                                      'nonlinearity': tf.nn.tanh}},\n",
    "            'strat': {'decay': 10000, 'scale': .25}}\n",
    "\n",
    "params['strat']['max_steps'] = 20000\n",
    "params['strat']['target'] = 20000\n",
    "\n",
    "import gym\n",
    "import gym.wrappers\n",
    "import pprint\n",
    "from trainer import naftrainer\n",
    "\n",
    "env = gym.make('InvertedDoublePendulum-v1')\n",
    "#env = gym.wrappers.Monitor(env, '/tmp/inverted-pendulum-biggerp', force=True)\n",
    "agent, reward = naftrainer.train(env, params, max_epochs=1000, writeevery=10)\n",
    "#env.close()"
   ]
  },
  {
   "cell_type": "code",
   "execution_count": 2,
   "metadata": {
    "collapsed": false,
    "deletable": true,
    "editable": true
   },
   "outputs": [
    {
     "name": "stderr",
     "output_type": "stream",
     "text": [
      "[2017-03-03 19:23:19,320] Making new env: InvertedDoublePendulum-v1\n",
      "[2017-03-03 19:23:19,539] DEPRECATION WARNING: env.spec.timestep_limit has been deprecated. Replace your call to `env.spec.timestep_limit` with `env.spec.tags.get('wrapper_config.TimeLimit.max_episode_steps')`. This change was made 12/28/2016 and is included in version 0.7.0\n",
      "[2017-03-03 19:23:19,541] Clearing 12 monitor files from previous run (because force=True was provided)\n"
     ]
    },
    {
     "name": "stdout",
     "output_type": "stream",
     "text": [
      "[-1.] [ 1.]\n",
      "(11,)\n",
      "(11,)\n"
     ]
    },
    {
     "name": "stderr",
     "output_type": "stream",
     "text": [
      "[2017-03-03 19:23:20,933] Starting new video recorder writing to /tmp/inverted-pendulum-final/openaigym.video.0.22204.video000000.mp4\n",
      "[2017-03-03 19:23:21,348] Starting new video recorder writing to /tmp/inverted-pendulum-final/openaigym.video.0.22204.video000001.mp4\n"
     ]
    },
    {
     "name": "stdout",
     "output_type": "stream",
     "text": [
      "Epoch 0 Reward 36.2780902546\n"
     ]
    },
    {
     "name": "stderr",
     "output_type": "stream",
     "text": [
      "[2017-03-03 19:23:21,774] Starting new video recorder writing to /tmp/inverted-pendulum-final/openaigym.video.0.22204.video000008.mp4\n"
     ]
    },
    {
     "name": "stdout",
     "output_type": "stream",
     "text": [
      "Epoch 10 Reward 54.5089940244\n",
      "Epoch 20 Reward 119.884227517\n"
     ]
    },
    {
     "name": "stderr",
     "output_type": "stream",
     "text": [
      "[2017-03-03 19:23:25,450] Starting new video recorder writing to /tmp/inverted-pendulum-final/openaigym.video.0.22204.video000027.mp4\n"
     ]
    },
    {
     "name": "stdout",
     "output_type": "stream",
     "text": [
      "Epoch 30 Reward 82.538909334\n"
     ]
    },
    {
     "ename": "KeyboardInterrupt",
     "evalue": "",
     "output_type": "error",
     "traceback": [
      "\u001b[0;31m---------------------------------------------------------------------------\u001b[0m",
      "\u001b[0;31mKeyboardInterrupt\u001b[0m                         Traceback (most recent call last)",
      "\u001b[0;32m<ipython-input-2-018696e01651>\u001b[0m in \u001b[0;36m<module>\u001b[0;34m()\u001b[0m\n\u001b[1;32m     21\u001b[0m \u001b[0menv\u001b[0m \u001b[0;34m=\u001b[0m \u001b[0mgym\u001b[0m\u001b[0;34m.\u001b[0m\u001b[0mmake\u001b[0m\u001b[0;34m(\u001b[0m\u001b[0;34m'InvertedDoublePendulum-v1'\u001b[0m\u001b[0;34m)\u001b[0m\u001b[0;34m\u001b[0m\u001b[0m\n\u001b[1;32m     22\u001b[0m \u001b[0menv\u001b[0m \u001b[0;34m=\u001b[0m \u001b[0mgym\u001b[0m\u001b[0;34m.\u001b[0m\u001b[0mwrappers\u001b[0m\u001b[0;34m.\u001b[0m\u001b[0mMonitor\u001b[0m\u001b[0;34m(\u001b[0m\u001b[0menv\u001b[0m\u001b[0;34m,\u001b[0m \u001b[0;34m'/tmp/inverted-pendulum-final'\u001b[0m\u001b[0;34m,\u001b[0m \u001b[0mforce\u001b[0m\u001b[0;34m=\u001b[0m\u001b[0mTrue\u001b[0m\u001b[0;34m)\u001b[0m\u001b[0;34m\u001b[0m\u001b[0m\n\u001b[0;32m---> 23\u001b[0;31m \u001b[0magent\u001b[0m\u001b[0;34m,\u001b[0m \u001b[0mreward\u001b[0m \u001b[0;34m=\u001b[0m \u001b[0mnaftrainer\u001b[0m\u001b[0;34m.\u001b[0m\u001b[0mtrain\u001b[0m\u001b[0;34m(\u001b[0m\u001b[0menv\u001b[0m\u001b[0;34m,\u001b[0m \u001b[0mparams\u001b[0m\u001b[0;34m,\u001b[0m \u001b[0mmax_epochs\u001b[0m\u001b[0;34m=\u001b[0m\u001b[0;36m1000\u001b[0m\u001b[0;34m,\u001b[0m \u001b[0mwriteevery\u001b[0m\u001b[0;34m=\u001b[0m\u001b[0;36m10\u001b[0m\u001b[0;34m)\u001b[0m\u001b[0;34m\u001b[0m\u001b[0m\n\u001b[0m\u001b[1;32m     24\u001b[0m \u001b[0menv\u001b[0m\u001b[0;34m.\u001b[0m\u001b[0mclose\u001b[0m\u001b[0;34m(\u001b[0m\u001b[0;34m)\u001b[0m\u001b[0;34m\u001b[0m\u001b[0m\n",
      "\u001b[0;32m/home/ygreif/qlearning/trainer/naftrainer.pyc\u001b[0m in \u001b[0;36mtrain\u001b[0;34m(env, parameters, max_epochs, writeevery)\u001b[0m\n\u001b[1;32m     39\u001b[0m     \u001b[0;32mfor\u001b[0m \u001b[0mepoch\u001b[0m \u001b[0;32min\u001b[0m \u001b[0mrange\u001b[0m\u001b[0;34m(\u001b[0m\u001b[0mmax_epochs\u001b[0m\u001b[0;34m)\u001b[0m\u001b[0;34m:\u001b[0m\u001b[0;34m\u001b[0m\u001b[0m\n\u001b[1;32m     40\u001b[0m         \u001b[0mstrat\u001b[0m \u001b[0;34m=\u001b[0m \u001b[0magents\u001b[0m\u001b[0;34m.\u001b[0m\u001b[0magent\u001b[0m\u001b[0;34m.\u001b[0m\u001b[0mDeltaStrategy\u001b[0m\u001b[0;34m(\u001b[0m\u001b[0mepoch\u001b[0m\u001b[0;34m=\u001b[0m\u001b[0mepoch\u001b[0m\u001b[0;34m,\u001b[0m \u001b[0;34m**\u001b[0m\u001b[0mparameters\u001b[0m\u001b[0;34m[\u001b[0m\u001b[0;34m'strat'\u001b[0m\u001b[0;34m]\u001b[0m\u001b[0;34m)\u001b[0m\u001b[0;34m\u001b[0m\u001b[0m\n\u001b[0;32m---> 41\u001b[0;31m         \u001b[0mr\u001b[0m \u001b[0;34m=\u001b[0m \u001b[0ma\u001b[0m\u001b[0;34m.\u001b[0m\u001b[0mtrain_epoch\u001b[0m\u001b[0;34m(\u001b[0m\u001b[0menv\u001b[0m\u001b[0;34m,\u001b[0m \u001b[0mstrat\u001b[0m\u001b[0;34m)\u001b[0m\u001b[0;34m\u001b[0m\u001b[0m\n\u001b[0m\u001b[1;32m     42\u001b[0m         \u001b[0;32mif\u001b[0m \u001b[0mepoch\u001b[0m \u001b[0;34m%\u001b[0m \u001b[0mwriteevery\u001b[0m \u001b[0;34m==\u001b[0m \u001b[0;36m0\u001b[0m\u001b[0;34m:\u001b[0m\u001b[0;34m\u001b[0m\u001b[0m\n\u001b[1;32m     43\u001b[0m             \u001b[0;32mprint\u001b[0m \u001b[0;34m\"Epoch\"\u001b[0m\u001b[0;34m,\u001b[0m \u001b[0mepoch\u001b[0m\u001b[0;34m,\u001b[0m \u001b[0;34m\"Reward\"\u001b[0m\u001b[0;34m,\u001b[0m \u001b[0mr\u001b[0m\u001b[0;34m\u001b[0m\u001b[0m\n",
      "\u001b[0;32m/home/ygreif/qlearning/agents/agent.pyc\u001b[0m in \u001b[0;36mtrain_epoch\u001b[0;34m(self, env, strat, learn)\u001b[0m\n\u001b[1;32m     49\u001b[0m             \u001b[0mself\u001b[0m\u001b[0;34m.\u001b[0m\u001b[0mmemory\u001b[0m\u001b[0;34m.\u001b[0m\u001b[0mappend\u001b[0m\u001b[0;34m(\u001b[0m\u001b[0mstate\u001b[0m\u001b[0;34m,\u001b[0m \u001b[0maction\u001b[0m\u001b[0;34m,\u001b[0m \u001b[0mreward\u001b[0m\u001b[0;34m,\u001b[0m \u001b[0mnext_state\u001b[0m\u001b[0;34m,\u001b[0m \u001b[0mdone\u001b[0m\u001b[0;34m)\u001b[0m\u001b[0;34m\u001b[0m\u001b[0m\n\u001b[1;32m     50\u001b[0m             \u001b[0;32mif\u001b[0m \u001b[0mlearn\u001b[0m\u001b[0;34m:\u001b[0m\u001b[0;34m\u001b[0m\u001b[0m\n\u001b[0;32m---> 51\u001b[0;31m                 \u001b[0mself\u001b[0m\u001b[0;34m.\u001b[0m\u001b[0mlearn\u001b[0m\u001b[0;34m(\u001b[0m\u001b[0;34m)\u001b[0m\u001b[0;34m\u001b[0m\u001b[0m\n\u001b[0m\u001b[1;32m     52\u001b[0m             \u001b[0mcum_reward\u001b[0m \u001b[0;34m+=\u001b[0m \u001b[0mreward\u001b[0m\u001b[0;34m\u001b[0m\u001b[0m\n\u001b[1;32m     53\u001b[0m             \u001b[0mstate\u001b[0m \u001b[0;34m=\u001b[0m \u001b[0mnext_state\u001b[0m\u001b[0;34m\u001b[0m\u001b[0m\n",
      "\u001b[0;32m/home/ygreif/qlearning/agents/agent.pyc\u001b[0m in \u001b[0;36mlearn\u001b[0;34m(self)\u001b[0m\n\u001b[1;32m     61\u001b[0m         \u001b[0mminibatch\u001b[0m \u001b[0;34m=\u001b[0m \u001b[0mself\u001b[0m\u001b[0;34m.\u001b[0m\u001b[0mmemory\u001b[0m\u001b[0;34m.\u001b[0m\u001b[0mminibatch\u001b[0m\u001b[0;34m(\u001b[0m\u001b[0mself\u001b[0m\u001b[0;34m.\u001b[0m\u001b[0mminibatch_size\u001b[0m\u001b[0;34m)\u001b[0m\u001b[0;34m\u001b[0m\u001b[0m\n\u001b[1;32m     62\u001b[0m         self.q.trainstep(minibatch.state, minibatch.actions,\n\u001b[0;32m---> 63\u001b[0;31m                          minibatch.rewards, minibatch.next_state, minibatch.terminals)\n\u001b[0m",
      "\u001b[0;32m/home/ygreif/qlearning/agents/naf.pyc\u001b[0m in \u001b[0;36mtrainstep\u001b[0;34m(self, state, action, rewards, next_state, terminals)\u001b[0m\n\u001b[1;32m    145\u001b[0m     \u001b[0;32mdef\u001b[0m \u001b[0mtrainstep\u001b[0m\u001b[0;34m(\u001b[0m\u001b[0mself\u001b[0m\u001b[0;34m,\u001b[0m \u001b[0mstate\u001b[0m\u001b[0;34m,\u001b[0m \u001b[0maction\u001b[0m\u001b[0;34m,\u001b[0m \u001b[0mrewards\u001b[0m\u001b[0;34m,\u001b[0m \u001b[0mnext_state\u001b[0m\u001b[0;34m,\u001b[0m \u001b[0mterminals\u001b[0m\u001b[0;34m)\u001b[0m\u001b[0;34m:\u001b[0m\u001b[0;34m\u001b[0m\u001b[0m\n\u001b[1;32m    146\u001b[0m         \u001b[0mtarget\u001b[0m \u001b[0;34m=\u001b[0m \u001b[0mself\u001b[0m\u001b[0;34m.\u001b[0m\u001b[0mcalcq\u001b[0m\u001b[0;34m(\u001b[0m\u001b[0mrewards\u001b[0m\u001b[0;34m,\u001b[0m \u001b[0mnext_state\u001b[0m\u001b[0;34m,\u001b[0m \u001b[0mterminals\u001b[0m\u001b[0;34m)\u001b[0m\u001b[0;34m\u001b[0m\u001b[0m\n\u001b[0;32m--> 147\u001b[0;31m         \u001b[0;32mreturn\u001b[0m \u001b[0mself\u001b[0m\u001b[0;34m.\u001b[0m\u001b[0msession\u001b[0m\u001b[0;34m.\u001b[0m\u001b[0mrun\u001b[0m\u001b[0;34m(\u001b[0m\u001b[0mself\u001b[0m\u001b[0;34m.\u001b[0m\u001b[0mtrain_step\u001b[0m\u001b[0;34m,\u001b[0m \u001b[0mfeed_dict\u001b[0m\u001b[0;34m=\u001b[0m\u001b[0;34m{\u001b[0m\u001b[0mself\u001b[0m\u001b[0;34m.\u001b[0m\u001b[0mtarget\u001b[0m\u001b[0;34m:\u001b[0m \u001b[0mtarget\u001b[0m\u001b[0;34m,\u001b[0m \u001b[0mself\u001b[0m\u001b[0;34m.\u001b[0m\u001b[0mvx\u001b[0m\u001b[0;34m:\u001b[0m \u001b[0mstate\u001b[0m\u001b[0;34m,\u001b[0m \u001b[0mself\u001b[0m\u001b[0;34m.\u001b[0m\u001b[0mpx\u001b[0m\u001b[0;34m:\u001b[0m \u001b[0mstate\u001b[0m\u001b[0;34m,\u001b[0m \u001b[0mself\u001b[0m\u001b[0;34m.\u001b[0m\u001b[0mqx\u001b[0m\u001b[0;34m:\u001b[0m \u001b[0mstate\u001b[0m\u001b[0;34m,\u001b[0m \u001b[0mself\u001b[0m\u001b[0;34m.\u001b[0m\u001b[0maction_inp\u001b[0m\u001b[0;34m:\u001b[0m \u001b[0maction\u001b[0m\u001b[0;34m}\u001b[0m\u001b[0;34m)\u001b[0m\u001b[0;34m\u001b[0m\u001b[0m\n\u001b[0m\u001b[1;32m    148\u001b[0m \u001b[0;34m\u001b[0m\u001b[0m\n\u001b[1;32m    149\u001b[0m     \u001b[0;32mdef\u001b[0m \u001b[0m__exit__\u001b[0m\u001b[0;34m(\u001b[0m\u001b[0mself\u001b[0m\u001b[0;34m)\u001b[0m\u001b[0;34m:\u001b[0m\u001b[0;34m\u001b[0m\u001b[0m\n",
      "\u001b[0;32m/home/ygreif/qlearning/env/local/lib/python2.7/site-packages/tensorflow/python/client/session.pyc\u001b[0m in \u001b[0;36mrun\u001b[0;34m(self, fetches, feed_dict, options, run_metadata)\u001b[0m\n\u001b[1;32m    764\u001b[0m     \u001b[0;32mtry\u001b[0m\u001b[0;34m:\u001b[0m\u001b[0;34m\u001b[0m\u001b[0m\n\u001b[1;32m    765\u001b[0m       result = self._run(None, fetches, feed_dict, options_ptr,\n\u001b[0;32m--> 766\u001b[0;31m                          run_metadata_ptr)\n\u001b[0m\u001b[1;32m    767\u001b[0m       \u001b[0;32mif\u001b[0m \u001b[0mrun_metadata\u001b[0m\u001b[0;34m:\u001b[0m\u001b[0;34m\u001b[0m\u001b[0m\n\u001b[1;32m    768\u001b[0m         \u001b[0mproto_data\u001b[0m \u001b[0;34m=\u001b[0m \u001b[0mtf_session\u001b[0m\u001b[0;34m.\u001b[0m\u001b[0mTF_GetBuffer\u001b[0m\u001b[0;34m(\u001b[0m\u001b[0mrun_metadata_ptr\u001b[0m\u001b[0;34m)\u001b[0m\u001b[0;34m\u001b[0m\u001b[0m\n",
      "\u001b[0;32m/home/ygreif/qlearning/env/local/lib/python2.7/site-packages/tensorflow/python/client/session.pyc\u001b[0m in \u001b[0;36m_run\u001b[0;34m(self, handle, fetches, feed_dict, options, run_metadata)\u001b[0m\n\u001b[1;32m    962\u001b[0m     \u001b[0;32mif\u001b[0m \u001b[0mfinal_fetches\u001b[0m \u001b[0;32mor\u001b[0m \u001b[0mfinal_targets\u001b[0m\u001b[0;34m:\u001b[0m\u001b[0;34m\u001b[0m\u001b[0m\n\u001b[1;32m    963\u001b[0m       results = self._do_run(handle, final_targets, final_fetches,\n\u001b[0;32m--> 964\u001b[0;31m                              feed_dict_string, options, run_metadata)\n\u001b[0m\u001b[1;32m    965\u001b[0m     \u001b[0;32melse\u001b[0m\u001b[0;34m:\u001b[0m\u001b[0;34m\u001b[0m\u001b[0m\n\u001b[1;32m    966\u001b[0m       \u001b[0mresults\u001b[0m \u001b[0;34m=\u001b[0m \u001b[0;34m[\u001b[0m\u001b[0;34m]\u001b[0m\u001b[0;34m\u001b[0m\u001b[0m\n",
      "\u001b[0;32m/home/ygreif/qlearning/env/local/lib/python2.7/site-packages/tensorflow/python/client/session.pyc\u001b[0m in \u001b[0;36m_do_run\u001b[0;34m(self, handle, target_list, fetch_list, feed_dict, options, run_metadata)\u001b[0m\n\u001b[1;32m   1012\u001b[0m     \u001b[0;32mif\u001b[0m \u001b[0mhandle\u001b[0m \u001b[0;32mis\u001b[0m \u001b[0mNone\u001b[0m\u001b[0;34m:\u001b[0m\u001b[0;34m\u001b[0m\u001b[0m\n\u001b[1;32m   1013\u001b[0m       return self._do_call(_run_fn, self._session, feed_dict, fetch_list,\n\u001b[0;32m-> 1014\u001b[0;31m                            target_list, options, run_metadata)\n\u001b[0m\u001b[1;32m   1015\u001b[0m     \u001b[0;32melse\u001b[0m\u001b[0;34m:\u001b[0m\u001b[0;34m\u001b[0m\u001b[0m\n\u001b[1;32m   1016\u001b[0m       return self._do_call(_prun_fn, self._session, handle, feed_dict,\n",
      "\u001b[0;32m/home/ygreif/qlearning/env/local/lib/python2.7/site-packages/tensorflow/python/client/session.pyc\u001b[0m in \u001b[0;36m_do_call\u001b[0;34m(self, fn, *args)\u001b[0m\n\u001b[1;32m   1019\u001b[0m   \u001b[0;32mdef\u001b[0m \u001b[0m_do_call\u001b[0m\u001b[0;34m(\u001b[0m\u001b[0mself\u001b[0m\u001b[0;34m,\u001b[0m \u001b[0mfn\u001b[0m\u001b[0;34m,\u001b[0m \u001b[0;34m*\u001b[0m\u001b[0margs\u001b[0m\u001b[0;34m)\u001b[0m\u001b[0;34m:\u001b[0m\u001b[0;34m\u001b[0m\u001b[0m\n\u001b[1;32m   1020\u001b[0m     \u001b[0;32mtry\u001b[0m\u001b[0;34m:\u001b[0m\u001b[0;34m\u001b[0m\u001b[0m\n\u001b[0;32m-> 1021\u001b[0;31m       \u001b[0;32mreturn\u001b[0m \u001b[0mfn\u001b[0m\u001b[0;34m(\u001b[0m\u001b[0;34m*\u001b[0m\u001b[0margs\u001b[0m\u001b[0;34m)\u001b[0m\u001b[0;34m\u001b[0m\u001b[0m\n\u001b[0m\u001b[1;32m   1022\u001b[0m     \u001b[0;32mexcept\u001b[0m \u001b[0merrors\u001b[0m\u001b[0;34m.\u001b[0m\u001b[0mOpError\u001b[0m \u001b[0;32mas\u001b[0m \u001b[0me\u001b[0m\u001b[0;34m:\u001b[0m\u001b[0;34m\u001b[0m\u001b[0m\n\u001b[1;32m   1023\u001b[0m       \u001b[0mmessage\u001b[0m \u001b[0;34m=\u001b[0m \u001b[0mcompat\u001b[0m\u001b[0;34m.\u001b[0m\u001b[0mas_text\u001b[0m\u001b[0;34m(\u001b[0m\u001b[0me\u001b[0m\u001b[0;34m.\u001b[0m\u001b[0mmessage\u001b[0m\u001b[0;34m)\u001b[0m\u001b[0;34m\u001b[0m\u001b[0m\n",
      "\u001b[0;32m/home/ygreif/qlearning/env/local/lib/python2.7/site-packages/tensorflow/python/client/session.pyc\u001b[0m in \u001b[0;36m_run_fn\u001b[0;34m(session, feed_dict, fetch_list, target_list, options, run_metadata)\u001b[0m\n\u001b[1;32m   1001\u001b[0m         return tf_session.TF_Run(session, options,\n\u001b[1;32m   1002\u001b[0m                                  \u001b[0mfeed_dict\u001b[0m\u001b[0;34m,\u001b[0m \u001b[0mfetch_list\u001b[0m\u001b[0;34m,\u001b[0m \u001b[0mtarget_list\u001b[0m\u001b[0;34m,\u001b[0m\u001b[0;34m\u001b[0m\u001b[0m\n\u001b[0;32m-> 1003\u001b[0;31m                                  status, run_metadata)\n\u001b[0m\u001b[1;32m   1004\u001b[0m \u001b[0;34m\u001b[0m\u001b[0m\n\u001b[1;32m   1005\u001b[0m     \u001b[0;32mdef\u001b[0m \u001b[0m_prun_fn\u001b[0m\u001b[0;34m(\u001b[0m\u001b[0msession\u001b[0m\u001b[0;34m,\u001b[0m \u001b[0mhandle\u001b[0m\u001b[0;34m,\u001b[0m \u001b[0mfeed_dict\u001b[0m\u001b[0;34m,\u001b[0m \u001b[0mfetch_list\u001b[0m\u001b[0;34m)\u001b[0m\u001b[0;34m:\u001b[0m\u001b[0;34m\u001b[0m\u001b[0m\n",
      "\u001b[0;31mKeyboardInterrupt\u001b[0m: "
     ]
    }
   ],
   "source": [
    "import tensorflow as tf\n",
    "\n",
    "params = {'naf': {'learningParameters': {'discount': 0.94999999999999996,\n",
    "                                           'learning_rate': 0.01},\n",
    "                    'nnpParameters': {'hidden_layers': [1, 1],\n",
    "                                      'nonlinearity': tf.nn.tanh},\n",
    "                    'nnqParameters': {'hidden_layers': [40, 40],\n",
    "                                      'nonlinearity': tf.nn.tanh},\n",
    "                    'nnvParameters': {'hidden_layers': [800, 800],\n",
    "                                      'nonlinearity': tf.nn.tanh}},\n",
    "            'strat': {'decay': 10000, 'scale': .25}}\n",
    "\n",
    "params['strat']['max_steps'] = 2000\n",
    "params['strat']['target'] = 2000\n",
    "\n",
    "import gym\n",
    "import gym.wrappers\n",
    "import pprint\n",
    "from trainer import naftrainer\n",
    "\n",
    "env = gym.make('InvertedDoublePendulum-v1')\n",
    "env = gym.wrappers.Monitor(env, '/tmp/inverted-pendulum-final', force=True)\n",
    "agent, reward = naftrainer.train(env, params, max_epochs=1000, writeevery=10)\n",
    "env.close()"
   ]
  },
  {
   "cell_type": "code",
   "execution_count": null,
   "metadata": {
    "collapsed": false,
    "deletable": true,
    "editable": true
   },
   "outputs": [
    {
     "name": "stderr",
     "output_type": "stream",
     "text": [
      "[2017-03-03 22:04:08,274] Making new env: InvertedDoublePendulum-v1\n",
      "[2017-03-03 22:04:08,295] DEPRECATION WARNING: env.spec.timestep_limit has been deprecated. Replace your call to `env.spec.timestep_limit` with `env.spec.tags.get('wrapper_config.TimeLimit.max_episode_steps')`. This change was made 12/28/2016 and is included in version 0.7.0\n",
      "[2017-03-03 22:04:08,297] Clearing 22 monitor files from previous run (because force=True was provided)\n"
     ]
    },
    {
     "name": "stdout",
     "output_type": "stream",
     "text": [
      "[-1.] [ 1.]\n",
      "(11,)\n",
      "(11,)\n"
     ]
    },
    {
     "name": "stderr",
     "output_type": "stream",
     "text": [
      "[2017-03-03 22:04:17,430] Starting new video recorder writing to /tmp/inverted-pendulum-final/openaigym.video.11.24430.video000000.mp4\n",
      "[2017-03-03 22:04:20,106] Starting new video recorder writing to /tmp/inverted-pendulum-final/openaigym.video.11.24430.video000001.mp4\n"
     ]
    },
    {
     "name": "stdout",
     "output_type": "stream",
     "text": [
      "Epoch 0 Reward 63.1670563409\n"
     ]
    },
    {
     "name": "stderr",
     "output_type": "stream",
     "text": [
      "[2017-03-03 22:04:20,956] Starting new video recorder writing to /tmp/inverted-pendulum-final/openaigym.video.11.24430.video000008.mp4\n",
      "[2017-03-03 22:04:25,853] Starting new video recorder writing to /tmp/inverted-pendulum-final/openaigym.video.11.24430.video000027.mp4\n",
      "[2017-03-03 22:04:36,220] Starting new video recorder writing to /tmp/inverted-pendulum-final/openaigym.video.11.24430.video000064.mp4\n"
     ]
    },
    {
     "name": "stdout",
     "output_type": "stream",
     "text": [
      "Epoch 100 Reward 353.126154971\n"
     ]
    },
    {
     "name": "stderr",
     "output_type": "stream",
     "text": [
      "[2017-03-03 22:05:00,929] Starting new video recorder writing to /tmp/inverted-pendulum-final/openaigym.video.11.24430.video000125.mp4\n",
      "[2017-03-03 22:05:03,111] Starting new video recorder writing to /tmp/inverted-pendulum-final/openaigym.video.11.24430.video000216.mp4\n"
     ]
    },
    {
     "data": {
      "image/png": "[encoded data removed]",
      "text/plain": [
       "<matplotlib.figure.Figure at 0x7fa097168b50>"
      ]
     },
     "metadata": {},
     "output_type": "display_data"
    },
    {
     "name": "stderr",
     "output_type": "stream",
     "text": [
      "[2017-03-03 22:06:31,355] Starting new video recorder writing to /tmp/inverted-pendulum-final/openaigym.video.11.24430.video000343.mp4\n"
     ]
    }
   ],
   "source": [
    "import tensorflow as tf\n",
    "\n",
    "%matplotlib inline\n",
    "\n",
    "\n",
    "params = {'naf': {'learningParameters': {'discount': 0.94999999999999996,\n",
    "                                           'learning_rate': 0.001},\n",
    "                    'nnpParameters': {'hidden_layers': [1, 1],\n",
    "                                      'nonlinearity': tf.nn.tanh},\n",
    "                    'nnqParameters': {'hidden_layers': [40, 40],\n",
    "                                      'nonlinearity': tf.nn.tanh},\n",
    "                    'nnvParameters': {'hidden_layers': [800, 800],\n",
    "                                      'nonlinearity': tf.nn.tanh}},\n",
    "            'strat': {'decay': 10000, 'scale': .25}}\n",
    "\n",
    "params['strat']['max_steps'] = 2000\n",
    "params['strat']['target'] = 2000\n",
    "\n",
    "import gym\n",
    "import gym.wrappers\n",
    "import pprint\n",
    "from trainer import naftrainer\n",
    "\n",
    "env = gym.make('InvertedDoublePendulum-v1')\n",
    "env = gym.wrappers.Monitor(env, '/tmp/inverted-pendulum-final', force=True)\n",
    "agent, reward, plots = naftrainer.train(env, params, max_epochs=1000, writeevery=100, validate=True)\n",
    "env.close()"
   ]
  },
  {
   "cell_type": "code",
   "execution_count": 27,
   "metadata": {
    "collapsed": false,
    "deletable": true,
    "editable": true
   },
   "outputs": [
    {
     "name": "stdout",
     "output_type": "stream",
     "text": [
      "1871\n",
      "onstrat memory 0\n",
      "onstrat memory 35\n",
      "onstrat memory 75\n",
      "onstrat memory 103\n",
      "onstrat memory 144\n",
      "onstrat memory 167\n",
      "onstrat memory 205\n",
      "onstrat memory 240\n",
      "onstrat memory 282\n",
      "onstrat memory 325\n",
      "onstrat memory 363\n",
      "onstrat memory 384\n",
      "onstrat memory 430\n",
      "onstrat memory 449\n",
      "onstrat memory 477\n",
      "onstrat memory 512\n",
      "onstrat memory 541\n",
      "onstrat memory 583\n",
      "onstrat memory 611\n",
      "onstrat memory 634\n",
      "onstrat memory 655\n",
      "onstrat memory 695\n",
      "onstrat memory 732\n",
      "onstrat memory 758\n",
      "onstrat memory 793\n",
      "onstrat memory 815\n",
      "onstrat memory 847\n",
      "onstrat memory 888\n",
      "onstrat memory 906\n",
      "onstrat memory 936\n",
      "onstrat memory 961\n",
      "onstrat memory 981\n",
      "onstrat memory 1012\n",
      "onstrat memory 1042\n",
      "onstrat memory 1074\n",
      "onstrat memory 1107\n",
      "onstrat memory 1134\n",
      "onstrat memory 1168\n",
      "onstrat memory 1191\n",
      "onstrat memory 1224\n",
      "onstrat memory 1254\n",
      "onstrat memory 1279\n",
      "onstrat memory 1317\n",
      "onstrat memory 1343\n",
      "onstrat memory 1396\n",
      "onstrat memory 1428\n",
      "onstrat memory 1454\n",
      "onstrat memory 1476\n",
      "onstrat memory 1511\n",
      "onstrat memory 1530\n",
      "onstrat memory 1559\n",
      "onstrat memory 1588\n",
      "onstrat memory 1624\n",
      "onstrat memory 1644\n",
      "onstrat memory 1670\n",
      "onstrat memory 1698\n",
      "onstrat memory 1728\n",
      "onstrat memory 1764\n",
      "onstrat memory 1786\n",
      "onstrat memory 1813\n",
      "onstrat memory 1840\n",
      "onstrat memory 1870\n",
      "onstrat memory 1894\n",
      "onstrat memory 1929\n",
      "onstrat memory 1968\n",
      "onstrat memory 2010\n",
      "onstrat memory 2033\n",
      "onstrat memory 2075\n",
      "onstrat memory 2103\n",
      "onstrat memory 2143\n",
      "onstrat memory 2177\n",
      "onstrat memory 2215\n",
      "onstrat memory 2265\n",
      "onstrat memory 2311\n",
      "onstrat memory 2342\n",
      "onstrat memory 2380\n",
      "onstrat memory 2411\n",
      "onstrat memory 2447\n",
      "onstrat memory 2490\n",
      "onstrat memory 2518\n",
      "onstrat memory 2543\n",
      "onstrat memory 2564\n",
      "onstrat memory 2604\n",
      "onstrat memory 2626\n",
      "onstrat memory 2649\n",
      "onstrat memory 2691\n",
      "onstrat memory 2721\n",
      "onstrat memory 2747\n",
      "onstrat memory 2771\n",
      "onstrat memory 2801\n",
      "onstrat memory 2838\n",
      "onstrat memory 2871\n",
      "onstrat memory 2902\n",
      "onstrat memory 2933\n",
      "onstrat memory 2962\n",
      "onstrat memory 2985\n",
      "onstrat memory 3021\n",
      "onstrat memory 3059\n",
      "onstrat memory 3091\n",
      "onstrat memory 3129\n",
      "onstrat memory 3176\n",
      "onstrat memory 3200\n",
      "onstrat memory 3224\n",
      "onstrat memory 3265\n",
      "onstrat memory 3299\n",
      "onstrat memory 3320\n",
      "onstrat memory 3342\n",
      "onstrat memory 3370\n",
      "onstrat memory 3397\n",
      "onstrat memory 3441\n",
      "onstrat memory 3482\n",
      "onstrat memory 3522\n",
      "onstrat memory 3545\n",
      "onstrat memory 3564\n",
      "onstrat memory 3588\n",
      "onstrat memory 3635\n",
      "onstrat memory 3668\n",
      "onstrat memory 3695\n",
      "onstrat memory 3726\n",
      "onstrat memory 3768\n",
      "onstrat memory 3821\n",
      "onstrat memory 3857\n",
      "onstrat memory 3897\n",
      "onstrat memory 3932\n",
      "onstrat memory 3964\n",
      "onstrat memory 4000\n",
      "onstrat memory 4032\n",
      "onstrat memory 4066\n",
      "onstrat memory 4093\n",
      "onstrat memory 4135\n",
      "onstrat memory 4160\n",
      "onstrat memory 4186\n",
      "onstrat memory 4253\n",
      "onstrat memory 4277\n",
      "onstrat memory 4323\n",
      "onstrat memory 4368\n",
      "onstrat memory 4403\n",
      "onstrat memory 4433\n",
      "onstrat memory 4468\n",
      "onstrat memory 4495\n",
      "onstrat memory 4522\n",
      "onstrat memory 4540\n",
      "onstrat memory 4571\n",
      "onstrat memory 4599\n",
      "onstrat memory 4648\n",
      "onstrat memory 4675\n",
      "onstrat memory 4714\n",
      "onstrat memory 4737\n",
      "onstrat memory 4783\n",
      "onstrat memory 4819\n",
      "onstrat memory 4855\n",
      "onstrat memory 4891\n",
      "onstrat memory 4924\n",
      "onstrat memory 4961\n",
      "onstrat memory 4980\n",
      "On iteration 0\n",
      "On iteration 1\n",
      "On iteration 2\n",
      "On iteration 3\n",
      "On iteration 4\n",
      "On iteration 5\n",
      "On iteration 6\n",
      "On iteration 7\n",
      "On iteration 8\n",
      "On iteration 9\n",
      "On iteration 10\n",
      "On iteration 11\n",
      "On iteration 12\n",
      "On iteration 13\n",
      "On iteration 14\n",
      "On iteration 15\n",
      "On iteration 16\n",
      "On iteration 17\n",
      "On iteration 18\n",
      "On iteration 19\n",
      "On iteration 20\n",
      "On iteration 21\n",
      "On iteration 22\n",
      "On iteration 23\n",
      "On iteration 24\n",
      "On iteration 25\n",
      "On iteration 26\n",
      "On iteration 27\n",
      "On iteration 28\n",
      "On iteration 29\n",
      "On iteration 30\n",
      "On iteration 31\n",
      "On iteration 32\n",
      "On iteration 33\n",
      "On iteration 34\n",
      "On iteration 35\n",
      "On iteration 36\n",
      "On iteration 37\n",
      "On iteration 38\n",
      "On iteration 39\n",
      "On iteration 40\n",
      "On iteration 41\n",
      "On iteration 42\n",
      "On iteration 43\n",
      "On iteration 44\n",
      "On iteration 45\n",
      "On iteration 46\n",
      "On iteration 47\n",
      "On iteration 48\n",
      "On iteration 49\n",
      "On iteration 50\n",
      "On iteration 51\n",
      "On iteration 52\n",
      "On iteration 53\n",
      "On iteration 54\n",
      "On iteration 55\n",
      "On iteration 56\n",
      "On iteration 57\n",
      "On iteration 58\n",
      "On iteration 59\n",
      "On iteration 60\n",
      "On iteration 61\n",
      "On iteration 62\n",
      "On iteration 63\n",
      "On iteration 64\n",
      "On iteration 65\n",
      "On iteration 66\n",
      "On iteration 67\n",
      "On iteration 68\n",
      "On iteration 69\n",
      "On iteration 70\n",
      "On iteration 71\n",
      "On iteration 72\n",
      "On iteration 73\n",
      "On iteration 74\n",
      "On iteration 75\n",
      "On iteration 76\n",
      "On iteration 77\n",
      "On iteration 78\n",
      "On iteration 79\n",
      "On iteration 80\n",
      "On iteration 81\n",
      "On iteration 82\n",
      "On iteration 83\n",
      "On iteration 84\n",
      "On iteration 85\n",
      "On iteration 86\n",
      "On iteration 87\n",
      "On iteration 88\n",
      "On iteration 89\n",
      "On iteration 90\n",
      "On iteration 91\n",
      "On iteration 92\n",
      "On iteration 93\n",
      "On iteration 94\n",
      "On iteration 95\n",
      "On iteration 96\n",
      "On iteration 97\n",
      "On iteration 98\n",
      "On iteration 99\n"
     ]
    }
   ],
   "source": [
    "from agents import validation\n",
    "\n",
    "insample, outsample, onstrat = validation.validate(env, agent, 5000)"
   ]
  },
  {
   "cell_type": "code",
   "execution_count": 18,
   "metadata": {
    "collapsed": false,
    "deletable": true,
    "editable": true
   },
   "outputs": [],
   "source": [
    "%matplotlib inline\n",
    "for p in plots:\n",
    "    p.show()\n",
    "#import matplotlib.pyplot as plt\n",
    "\n",
    "#plt.plot(insample, label=\"in sample\")\n",
    "#plt.plot(outsample, label=\"out sample\")\n",
    "#plt.plot(onstrat, label=\"on strat\")\n",
    "#plt.legend()\n",
    "#plt.close()"
   ]
  },
  {
   "cell_type": "code",
   "execution_count": 30,
   "metadata": {
    "collapsed": false
   },
   "outputs": [
    {
     "data": {
      "text/plain": [
       "1871"
      ]
     },
     "execution_count": 30,
     "metadata": {},
     "output_type": "execute_result"
    }
   ],
   "source": [
    "len(agent.memory)"
   ]
  },
  {
   "cell_type": "code",
   "execution_count": null,
   "metadata": {
    "collapsed": true
   },
   "outputs": [],
   "source": []
  }
 ],
 "metadata": {
  "kernelspec": {
   "display_name": "Python 2",
   "language": "python",
   "name": "python2"
  },
  "language_info": {
   "codemirror_mode": {
    "name": "ipython",
    "version": 2
   },
   "file_extension": ".py",
   "mimetype": "text/x-python",
   "name": "python",
   "nbconvert_exporter": "python",
   "pygments_lexer": "ipython2",
   "version": "2.7.12"
  }
 },
 "nbformat": 4,
 "nbformat_minor": 2
}
